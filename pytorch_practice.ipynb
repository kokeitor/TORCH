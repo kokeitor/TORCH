{
  "cells": [
    {
      "cell_type": "code",
      "execution_count": 1,
      "metadata": {
        "colab": {
          "base_uri": "https://localhost:8080/"
        },
        "id": "2JVQ13l32QpB",
        "outputId": "79961510-ee34-4c42-8373-8bfb55d03ed4"
      },
      "outputs": [],
      "source": [
        "# Esto es solo para poder debugear.\n",
        "#!pip install torch tqdm\n",
        "import torch\n",
        "import numpy as np\n",
        "import tqdm\n",
        "\n",
        "# Genera una semilla fija para que los experimentos sea repetibles.\n",
        "t_cg = torch.manual_seed(1547)"
      ]
    },
    {
      "cell_type": "markdown",
      "metadata": {
        "id": "-MbJDaOcZGIr"
      },
      "source": [
        "### NUMPY"
      ]
    },
    {
      "cell_type": "code",
      "execution_count": 2,
      "metadata": {
        "id": "k40zE64ZUegJ"
      },
      "outputs": [],
      "source": [
        "x = np.array([[1, 2,3, 4]],dtype = np.float32)\n",
        "y = np.array([2, 4,6,8], dtype = np.float32)\n",
        "\n",
        "def forward(x):\n",
        "  return x * w\n",
        "def loss(y_pred, y):\n",
        "  return np.mean(((y_pred - y)**2))\n",
        "\n",
        "def grad(y_pred,y):\n",
        "  return (x* 2 * ((y_pred) - y)).mean()"
      ]
    },
    {
      "cell_type": "code",
      "execution_count": 3,
      "metadata": {
        "colab": {
          "base_uri": "https://localhost:8080/"
        },
        "id": "r5ayDy4JU3Q9",
        "outputId": "a608d9bd-16f8-47aa-af7d-dd44502c2683"
      },
      "outputs": [
        {
          "name": "stdout",
          "output_type": "stream",
          "text": [
            "30.0 1.5\n",
            "1.875 1.875\n",
            "0.1171875 1.96875\n",
            "0.0073242188 1.9921875\n",
            "0.00045776367 1.998046875\n",
            "2.861023e-05 1.99951171875\n",
            "1.7881393e-06 1.9998779296875\n",
            "1.1175871e-07 1.999969482421875\n",
            "6.9849193e-09 1.9999923706054688\n",
            "4.3655746e-10 1.9999980926513672\n",
            "9.999990463256836\n"
          ]
        }
      ],
      "source": [
        "w= 0.0\n",
        "lr =0.05\n",
        "for e in range(10):\n",
        "  y_pred = forward(x)\n",
        "  loss_i = loss(y_pred,y)\n",
        "  grad_i = grad(y_pred,y)\n",
        "  w -= lr*grad_i\n",
        "  print(loss_i, w)\n",
        "\n",
        "print(forward(x = 5))\n"
      ]
    },
    {
      "cell_type": "markdown",
      "metadata": {
        "id": "T1RouJqWZHQ3"
      },
      "source": [
        "### TORCH METHOD 1"
      ]
    },
    {
      "cell_type": "code",
      "execution_count": 4,
      "metadata": {
        "id": "ZEedSeCoZFT4"
      },
      "outputs": [],
      "source": [
        "x = torch.tensor([1,2,3, 4],dtype = torch.float32, requires_grad = False)\n",
        "y = torch.tensor([2,4,6,8], dtype = torch.float32, requires_grad = False)\n",
        "w = torch.tensor(0.0,dtype = torch.float32, requires_grad = True)\n",
        "\n",
        "\n",
        "def forward(x):\n",
        "  return w *  x\n",
        "def loss(y_pred, y):\n",
        "  return ((y_pred - y)**2).mean()\n"
      ]
    },
    {
      "cell_type": "code",
      "execution_count": 5,
      "metadata": {
        "colab": {
          "base_uri": "https://localhost:8080/"
        },
        "id": "lPV0BhWwhbaS",
        "outputId": "9f3b845e-e48e-4a47-ee54-adad8f82c58e"
      },
      "outputs": [
        {
          "name": "stderr",
          "output_type": "stream",
          "text": [
            "100%|██████████| 50/50 [00:00<00:00, 1786.12it/s]"
          ]
        },
        {
          "name": "stdout",
          "output_type": "stream",
          "text": [
            "epoch : 0\n",
            "loss : 30.000\n",
            "w : 0.300\n",
            "epoch : 10\n",
            "loss : 1.163\n",
            "w : 1.665\n",
            "epoch : 20\n",
            "loss : 0.045\n",
            "w : 1.934\n",
            "epoch : 30\n",
            "loss : 0.002\n",
            "w : 1.987\n",
            "epoch : 40\n",
            "loss : 0.000\n",
            "w : 1.997\n",
            "9.997042655944824\n"
          ]
        },
        {
          "name": "stderr",
          "output_type": "stream",
          "text": [
            "\n"
          ]
        }
      ],
      "source": [
        "lr =0.01\n",
        "for e in tqdm.tqdm(range(50)):\n",
        "  y_pred = forward(x)\n",
        "  l  = loss(y_pred, y)\n",
        "  l.backward()\n",
        "\n",
        "  with torch.no_grad():\n",
        "    w -= lr * w.grad\n",
        "  w.grad.zero_()\n",
        "\n",
        "  if e % 10 == 0:\n",
        "    print(f\"epoch : {e}\")\n",
        "    print(f\"loss : {l.item():.3f}\")\n",
        "    print(f\"w : {w.item():.3f}\")\n",
        "\n",
        "print(forward(x = 5).item())"
      ]
    },
    {
      "cell_type": "markdown",
      "metadata": {
        "id": "WBUak5v2gJYp"
      },
      "source": [
        "### TORCH METHOD 2"
      ]
    },
    {
      "cell_type": "code",
      "execution_count": 6,
      "metadata": {
        "id": "4OUYDA6mJfMm"
      },
      "outputs": [],
      "source": [
        "import torch.nn as nn\n",
        "x = torch.tensor([1,2,3, 4],dtype = torch.float32, requires_grad = False)\n",
        "y = torch.tensor([2,4,6,8], dtype = torch.float32, requires_grad = False)\n",
        "w = torch.tensor(0.0,dtype = torch.float32, requires_grad = True)\n",
        "\n",
        "#otra forma seria : instanciar clase que devuelve objeto MSEloss\n",
        "# loss = nn.MSELoss(size_average=None, reduce=None, reduction='mean')\n",
        "\n",
        "def forward(x):\n",
        "  return x * w\n"
      ]
    },
    {
      "cell_type": "code",
      "execution_count": 7,
      "metadata": {
        "colab": {
          "base_uri": "https://localhost:8080/"
        },
        "id": "Rt8l9pjvPuH4",
        "outputId": "34afe7b2-0c27-406c-dca6-831d92e4aa0b"
      },
      "outputs": [
        {
          "name": "stderr",
          "output_type": "stream",
          "text": [
            "100%|██████████| 50/50 [00:00<00:00, 3845.37it/s]"
          ]
        },
        {
          "name": "stdout",
          "output_type": "stream",
          "text": [
            "epoch : 0\n",
            "loss : 30.000\n",
            "w : 0.300\n",
            "epoch : 10\n",
            "loss : 1.163\n",
            "w : 1.665\n",
            "epoch : 20\n",
            "loss : 0.045\n",
            "w : 1.934\n",
            "epoch : 30\n",
            "loss : 0.002\n",
            "w : 1.987\n",
            "epoch : 40\n",
            "loss : 0.000\n",
            "w : 1.997\n",
            "9.997042655944824\n"
          ]
        },
        {
          "name": "stderr",
          "output_type": "stream",
          "text": [
            "\n"
          ]
        }
      ],
      "source": [
        "lr =0.01\n",
        "for e in tqdm.tqdm(range(50)):\n",
        "  y_pred = forward(x)\n",
        "  # simula la funcion de loss implementada a mano antes\n",
        "\n",
        "  # Metodo 1: instanciando clase de error\n",
        "  # l = loss(input = y_pred, target = y)\n",
        "\n",
        "  # Metodo 2 : simulan la funcion de loss implementada a mano antes mediante una funcion de error built in de torch:\n",
        "  l  = nn.functional.mse_loss(input = y_pred, target = y, size_average=None, reduce=None, reduction='mean')\n",
        "  l.backward()\n",
        "\n",
        "  with torch.no_grad():\n",
        "    w -= lr * w.grad\n",
        "  w.grad.zero_()\n",
        "\n",
        "  if e % 10 == 0:\n",
        "    print(f\"epoch : {e}\")\n",
        "    print(f\"loss : {l.item():.3f}\")\n",
        "    print(f\"w : {w.item():.3f}\")\n",
        "\n",
        "print(forward(x = 5).item())"
      ]
    },
    {
      "cell_type": "markdown",
      "metadata": {
        "id": "LEYAJ4W9hr5X"
      },
      "source": [
        "### TORCH METHOD 3"
      ]
    },
    {
      "cell_type": "code",
      "execution_count": 8,
      "metadata": {
        "id": "3yaq1ZBRQIqq"
      },
      "outputs": [],
      "source": [
        "import torch.nn as nn\n",
        "\n",
        "x = torch.tensor([1,2,3, 4],dtype = torch.float32, requires_grad = False)\n",
        "y = torch.tensor([2,4,6,8], dtype = torch.float32, requires_grad = False)\n",
        "w = torch.tensor(0.0,dtype = torch.float32, requires_grad = True)\n",
        "\n",
        "# loss class\n",
        "loss = nn.MSELoss(size_average=None, reduce=None, reduction='mean')\n",
        "\n",
        "# crea optimizer para prescendir d actualizacion de pesos a mano\n",
        "optimizer = torch.optim.SGD(params = [w], lr=0.01)\n",
        "\n",
        "def forward(x):\n",
        "  return x * w\n"
      ]
    },
    {
      "cell_type": "code",
      "execution_count": 9,
      "metadata": {
        "colab": {
          "base_uri": "https://localhost:8080/"
        },
        "id": "eZfjHjk2iBTU",
        "outputId": "f645192e-1657-4664-ec98-d50fedc36007"
      },
      "outputs": [
        {
          "name": "stderr",
          "output_type": "stream",
          "text": [
            "  0%|          | 0/50 [00:00<?, ?it/s]"
          ]
        },
        {
          "name": "stderr",
          "output_type": "stream",
          "text": [
            "100%|██████████| 50/50 [00:00<00:00, 543.47it/s]"
          ]
        },
        {
          "name": "stdout",
          "output_type": "stream",
          "text": [
            "epoch : 0\n",
            "loss : 30.000\n",
            "w : 0.300\n",
            "epoch : 10\n",
            "loss : 1.163\n",
            "w : 1.665\n",
            "epoch : 20\n",
            "loss : 0.045\n",
            "w : 1.934\n",
            "epoch : 30\n",
            "loss : 0.002\n",
            "w : 1.987\n",
            "epoch : 40\n",
            "loss : 0.000\n",
            "w : 1.997\n",
            "9.997042655944824\n"
          ]
        },
        {
          "name": "stderr",
          "output_type": "stream",
          "text": [
            "\n"
          ]
        }
      ],
      "source": [
        "for epoch in tqdm.tqdm(range(50)):\n",
        "  # forward\n",
        "  y_pred = forward(x)\n",
        "\n",
        "  # compute loss for all the batch\n",
        "  l   = loss(input = y_pred, target = y)\n",
        "\n",
        "  # compute the gradients for each w_i : dloss/dw_i (usa grafo computacional y almacena ,en el tensor .grad asociado a cada parametro, el valor del gradiente que luego usa el algoritmo de optimizacion)\n",
        "  l.backward()\n",
        "\n",
        "  # paso del optimizer (en este caso un simple SGD) equivale a lo que haciamos a mano de w += -lr*w.grad\n",
        "  optimizer.step()\n",
        "\n",
        "  if epoch % 10 == 0:\n",
        "    print(f\"epoch : {epoch}\")\n",
        "    print(f\"loss : {l.item():.3f}\")\n",
        "    print(f\"w : {w.item():.3f}\")\n",
        "  optimizer.zero_grad()\n",
        "\n",
        "print(forward(x = 5).item())"
      ]
    },
    {
      "cell_type": "markdown",
      "metadata": {
        "id": "Eft4lJyOqM9q"
      },
      "source": [
        "### TORCH METHOD 4"
      ]
    },
    {
      "cell_type": "code",
      "execution_count": 64,
      "metadata": {
        "id": "BYPG397vqPYO"
      },
      "outputs": [],
      "source": [
        "import torch.nn as nn\n",
        "\n",
        "x = torch.tensor([[1],[2],[3], [4]],dtype = torch.float32, requires_grad = False)\n",
        "y = torch.tensor([[2],[4],[6],[8]], dtype = torch.float32, requires_grad = False)\n",
        "\n",
        "# Dimension layers (in and out, entra 4 samples (batch) sale 1 output por cada input) teniendo en cuenta el batch: X_input(1,4) * W(4,1)--> (1,1) // sin batch : X_input(1) * W(1)--> (1)\n",
        "batch_size , features  = x.shape\n",
        "# features == dim_input y en este caso features ==  dim_output pq capa solo 1 parametro (como que solo una neurona)\n",
        "\n",
        "# model [capa lineal inicializa un tensor paramters asociado a la capa en funcion de las input y output dimesnions especificadas ]: capa lineal con 1 W y 1 X input (escalares) ; luego dim_input = 1 y dim_output = 1\n",
        "model = nn.Linear(in_features= 1, out_features = 1)\n",
        "\n",
        "# loss class\n",
        "loss = nn.MSELoss(size_average=None, reduce=None, reduction='mean')\n",
        "\n",
        "# crea optimizer para prescendir de actualizacion de pesos a mano\n",
        "optimizer = torch.optim.SGD(params = model.parameters(), lr=0.01)\n",
        "\n",
        "def forward(x):\n",
        "  return x * w\n"
      ]
    },
    {
      "cell_type": "code",
      "execution_count": 65,
      "metadata": {
        "colab": {
          "base_uri": "https://localhost:8080/"
        },
        "id": "SrJjVppMsOQC",
        "outputId": "34a42a02-75f1-4df4-9e3b-794be874aec0"
      },
      "outputs": [
        {
          "name": "stderr",
          "output_type": "stream",
          "text": [
            "  0%|          | 0/50 [00:00<?, ?it/s]"
          ]
        },
        {
          "name": "stdout",
          "output_type": "stream",
          "text": [
            "epoch : 0\n",
            "loss : 21.203\n"
          ]
        },
        {
          "name": "stderr",
          "output_type": "stream",
          "text": [
            "\n"
          ]
        },
        {
          "ename": "AttributeError",
          "evalue": "'Linear' object has no attribute 'get_parameters'",
          "output_type": "error",
          "traceback": [
            "\u001b[1;31m---------------------------------------------------------------------------\u001b[0m",
            "\u001b[1;31mAttributeError\u001b[0m                            Traceback (most recent call last)",
            "Cell \u001b[1;32mIn[65], line 17\u001b[0m\n\u001b[0;32m     15\u001b[0m     \u001b[38;5;28mprint\u001b[39m(\u001b[38;5;124mf\u001b[39m\u001b[38;5;124m\"\u001b[39m\u001b[38;5;124mepoch : \u001b[39m\u001b[38;5;132;01m{\u001b[39;00mepoch\u001b[38;5;132;01m}\u001b[39;00m\u001b[38;5;124m\"\u001b[39m)\n\u001b[0;32m     16\u001b[0m     \u001b[38;5;28mprint\u001b[39m(\u001b[38;5;124mf\u001b[39m\u001b[38;5;124m\"\u001b[39m\u001b[38;5;124mloss : \u001b[39m\u001b[38;5;132;01m{\u001b[39;00ml\u001b[38;5;241m.\u001b[39mitem()\u001b[38;5;132;01m:\u001b[39;00m\u001b[38;5;124m.3f\u001b[39m\u001b[38;5;132;01m}\u001b[39;00m\u001b[38;5;124m\"\u001b[39m)\n\u001b[1;32m---> 17\u001b[0m     \u001b[38;5;28mprint\u001b[39m(\u001b[38;5;124mf\u001b[39m\u001b[38;5;124m\"\u001b[39m\u001b[38;5;124mw : \u001b[39m\u001b[38;5;132;01m{\u001b[39;00m\u001b[43mmodel\u001b[49m\u001b[38;5;241;43m.\u001b[39;49m\u001b[43mget_parameters\u001b[49m()\u001b[38;5;241m.\u001b[39mitems()\u001b[38;5;132;01m}\u001b[39;00m\u001b[38;5;124m\"\u001b[39m)\n\u001b[0;32m     18\u001b[0m   optimizer\u001b[38;5;241m.\u001b[39mzero_grad()\n\u001b[0;32m     20\u001b[0m \u001b[38;5;28mprint\u001b[39m(forward(x \u001b[38;5;241m=\u001b[39m \u001b[38;5;241m5\u001b[39m)\u001b[38;5;241m.\u001b[39mitem())\n",
            "File \u001b[1;32mc:\\Users\\Jorge\\Desktop\\MASTER_IA\\TORCH\\env\\Lib\\site-packages\\torch\\nn\\modules\\module.py:1709\u001b[0m, in \u001b[0;36mModule.__getattr__\u001b[1;34m(self, name)\u001b[0m\n\u001b[0;32m   1707\u001b[0m     \u001b[38;5;28;01mif\u001b[39;00m name \u001b[38;5;129;01min\u001b[39;00m modules:\n\u001b[0;32m   1708\u001b[0m         \u001b[38;5;28;01mreturn\u001b[39;00m modules[name]\n\u001b[1;32m-> 1709\u001b[0m \u001b[38;5;28;01mraise\u001b[39;00m \u001b[38;5;167;01mAttributeError\u001b[39;00m(\u001b[38;5;124mf\u001b[39m\u001b[38;5;124m\"\u001b[39m\u001b[38;5;124m'\u001b[39m\u001b[38;5;132;01m{\u001b[39;00m\u001b[38;5;28mtype\u001b[39m(\u001b[38;5;28mself\u001b[39m)\u001b[38;5;241m.\u001b[39m\u001b[38;5;18m__name__\u001b[39m\u001b[38;5;132;01m}\u001b[39;00m\u001b[38;5;124m'\u001b[39m\u001b[38;5;124m object has no attribute \u001b[39m\u001b[38;5;124m'\u001b[39m\u001b[38;5;132;01m{\u001b[39;00mname\u001b[38;5;132;01m}\u001b[39;00m\u001b[38;5;124m'\u001b[39m\u001b[38;5;124m\"\u001b[39m)\n",
            "\u001b[1;31mAttributeError\u001b[0m: 'Linear' object has no attribute 'get_parameters'"
          ]
        }
      ],
      "source": [
        "for epoch in tqdm.tqdm(range(50)):\n",
        "  # forward now is == to calling the model\n",
        "  y_pred = model(x)\n",
        "\n",
        "  # compute loss for all the batch\n",
        "  l   = loss(input = y_pred, target = y)\n",
        "\n",
        "  # compute the gradients for each w_i : dloss/dw_i (usa grafo computacional y almacena ,en el tensor .grad asociado a cada parametro, el valor del gradiente que luego usa el algoritmo de optimizacion)\n",
        "  l.backward()\n",
        "\n",
        "  # paso del optimizer (en este caso un simple SGD) equivale a lo que haciamos a mano de w += -lr*w.grad\n",
        "  optimizer.step()\n",
        "\n",
        "  if epoch % 10 == 0:\n",
        "    print(f\"epoch : {epoch}\")\n",
        "    print(f\"loss : {l.item():.3f}\")\n",
        "  optimizer.zero_grad()\n",
        "\n",
        "print(forward(x = 5).item())"
      ]
    },
    {
      "cell_type": "markdown",
      "metadata": {
        "id": "SNpS7kFUkohP"
      },
      "source": [
        "### TORCH METHOD 5  : custom module + dataset"
      ]
    },
    {
      "cell_type": "code",
      "execution_count": 143,
      "metadata": {
        "id": "znZayzMfktvh"
      },
      "outputs": [
        {
          "name": "stdout",
          "output_type": "stream",
          "text": [
            "(100, 1) (100,)\n",
            "(100, 1) (100,)\n",
            "torch.Size([100, 1]) torch.Size([100])\n",
            "torch.Size([100, 1]) torch.Size([100, 1])\n",
            "Media de target y : -0.000\n",
            "Media de target y std: -0.000\n",
            "\n",
            "\n",
            "\n",
            "Module : LinearRegression(\n",
            "  (linear): Linear(in_features=1, out_features=1, bias=True)\n",
            ")\n",
            "\n",
            "Module : Linear(in_features=1, out_features=1, bias=True)\n",
            "\n",
            "Parameter : ('linear.weight', Parameter containing:\n",
            "tensor([[0.9165]], requires_grad=True))\n",
            "\n",
            "Parameter : ('linear.bias', Parameter containing:\n",
            "tensor([-0.5463], requires_grad=True))\n"
          ]
        }
      ],
      "source": [
        "import torch.nn as nn\n",
        "import numpy as np\n",
        "from sklearn import datasets\n",
        "import matplotlib.pyplot as plt\n",
        "\n",
        "# data samples\n",
        "x_numpy , y_numpy = datasets.make_regression(n_samples =100, n_features= 1, noise =20, random_state = 1)\n",
        "x_numpy_std  = (x_numpy - np.mean(x_numpy)) / np.std(x_numpy)\n",
        "y_numpy_std = (y_numpy - np.mean(y_numpy)) / np.std(y_numpy)\n",
        "print(x_numpy.shape, y_numpy.shape)\n",
        "print(x_numpy_std.shape, y_numpy_std.shape)\n",
        "\n",
        "# to torch tensor\n",
        "x = torch.from_numpy(x_numpy_std.astype(np.float32))\n",
        "y = torch.from_numpy(y_numpy_std.astype(np.float32))\n",
        "print(x.shape, y.shape)\n",
        "# reshape y from (100) tensor -> (100,1) tensor\n",
        "y = y.view(y.shape[0],1)\n",
        "print(x.shape, y.shape)\n",
        "print(f\"Media de target y : {y.mean(dim = 0).item():.3f}\")\n",
        "print(f\"Media de target y std: {y.mean(dim = 0).item():.3f}\")\n",
        "\n",
        "# numbeer of samples and number of features\n",
        "# x (100,1)\n",
        "n_samples = x.shape[0]\n",
        "features = x.shape[1]\n",
        "\n",
        "# custom class model (linear regression layer)\n",
        "class LinearRegression(nn.Module):\n",
        "    def __init__(self, input_size, output_size) -> None:\n",
        "       super().__init__()\n",
        "       self.in_size = input_size\n",
        "       self.out_size = output_size\n",
        "       # model [capa lineal inicializa un tensor paramters asociado a la capa en funcion de las input y output dimesnions especificadas ]: capa lineal con 1 W y 1 X input (escalares) ; luego dim_input = 1 y dim_output = 1\n",
        "       self.linear = nn.Linear(in_features= self.in_size, out_features = self.out_size, bias = True)\n",
        "    def forward(self,x):\n",
        "        return self.linear(x)\n",
        "    \n",
        "\n",
        "# instanciar capa y crear modelo\n",
        "model = LinearRegression(input_size = features, output_size = features)\n",
        "# loss class\n",
        "loss = nn.MSELoss(reduction='mean')\n",
        "# crea optimizer para prescendir de actualizacion de pesos a mano\n",
        "optimizer = torch.optim.SGD(params = model.parameters(), lr=0.01)\n",
        "\n",
        "# MODULE CLASS DOCU:\n",
        "\"\"\"nn.Module :\n",
        "Base class for all neural network modules.\n",
        "\n",
        "Your models should also subclass this class.\n",
        "\n",
        "Modules can also contain other Modules, allowing to nest them in a tree structure. You can assign the submodules as regular attributes: \n",
        "self.sub_module = nn.Linear(...)\"\"\"\n",
        "\n",
        "# Iterate along all de modules inside a network class or model class. Notice that LinearRegression module has inside a linear layer \"module\" or only linear layer\n",
        "# note that the atribute name : self.linear will define the string \"linear\" to refer to that layer inside a module\n",
        "# this will be useful when ,inside a class module, there are several layers\n",
        "print(\"\\n\")\n",
        "\n",
        "for m in model.modules():\n",
        "    print(f\"\\nModule : {m}\")\n",
        "\n",
        "# iterate along all the parameters inside a module ( a module can have a lot of layers with their parameters)\n",
        "for p in model.named_parameters(prefix='', recurse=True, remove_duplicate=True):\n",
        "    print(f\"\\nParameter : {p}\")"
      ]
    },
    {
      "cell_type": "code",
      "execution_count": 144,
      "metadata": {
        "colab": {
          "base_uri": "https://localhost:8080/"
        },
        "id": "APdfIuxGQTuu",
        "outputId": "8d679be4-54fe-499b-86be-548f69d2049f"
      },
      "outputs": [
        {
          "name": "stderr",
          "output_type": "stream",
          "text": [
            "100%|██████████| 50/50 [00:00<00:00, 1515.34it/s]"
          ]
        },
        {
          "name": "stdout",
          "output_type": "stream",
          "text": [
            "epoch : 0\n",
            "loss : 0.360\n",
            "w : 0.918\n",
            "Predictions :tensor([[4.5543],\n",
            "        [5.5050]])\n"
          ]
        },
        {
          "name": "stderr",
          "output_type": "stream",
          "text": [
            "\n"
          ]
        },
        {
          "data": {
            "image/png": "[encoded data removed]",
            "text/plain": [
              "<Figure size 640x480 with 1 Axes>"
            ]
          },
          "metadata": {},
          "output_type": "display_data"
        }
      ],
      "source": [
        "epochs = 50\n",
        "for epoch in tqdm.tqdm(range(epochs)):\n",
        "    \n",
        "  # forward now is == to calling the model\n",
        "  y_pred = model(x)\n",
        "\n",
        "  # compute loss for all the batch\n",
        "  l   = loss(input = y_pred, target = y)\n",
        "\n",
        "  # compute the gradients for each w_i : dloss/dw_i (usa grafo computacional y almacena ,en el tensor .grad asociado a cada parametro, el valor del gradiente que luego usa el algoritmo de optimizacion)\n",
        "  l.backward()\n",
        "\n",
        "  # paso del optimizer (en este caso un simple SGD) equivale a lo que haciamos a mano de w += -lr*w.grad\n",
        "  optimizer.step()\n",
        "  \n",
        "  # restore or eliminate the grads inside parameter.grad tensor for next iteration\n",
        "  optimizer.zero_grad()\n",
        "\n",
        "  if epoch % 50 == 0:\n",
        "    print(f\"epoch : {epoch}\")\n",
        "    print(f\"loss : {l.item():.3f}\")\n",
        "    print(f\"w : {model.get_parameter(target = 'linear.weight').item():.3f}\")\n",
        "\n",
        "# try prediction \n",
        "# IMPORTANT TO DETACH \n",
        "prediction = model(x = torch.tensor([[5],[6]], dtype = torch.float32)).detach()\n",
        "print(f\"Predictions :{prediction}\")\n",
        "\n",
        "# plotting\n",
        "y_pred_train = model(x = x).detach().numpy()\n",
        "plt.plot(x_numpy_std, y_numpy_std, 'ro')\n",
        "#plt.plot(x_numpy, y_numpy, 'yo')\n",
        "plt.plot(x_numpy_std, y_pred_train, 'b')\n",
        "plt.show()\n"
      ]
    },
    {
      "cell_type": "markdown",
      "metadata": {},
      "source": [
        "### TORCH METHOD 6  : FFN MULTICLASS\n"
      ]
    },
    {
      "cell_type": "code",
      "execution_count": 147,
      "metadata": {},
      "outputs": [
        {
          "name": "stdout",
          "output_type": "stream",
          "text": [
            "Downloading http://yann.lecun.com/exdb/mnist/train-images-idx3-ubyte.gz\n",
            "Failed to download (trying next):\n",
            "HTTP Error 403: Forbidden\n",
            "\n",
            "Downloading https://ossci-datasets.s3.amazonaws.com/mnist/train-images-idx3-ubyte.gz\n",
            "Downloading https://ossci-datasets.s3.amazonaws.com/mnist/train-images-idx3-ubyte.gz to ./data\\MNIST\\raw\\train-images-idx3-ubyte.gz\n"
          ]
        },
        {
          "name": "stderr",
          "output_type": "stream",
          "text": [
            "100%|██████████| 9912422/9912422 [00:03<00:00, 2618149.49it/s]\n"
          ]
        },
        {
          "name": "stdout",
          "output_type": "stream",
          "text": [
            "Extracting ./data\\MNIST\\raw\\train-images-idx3-ubyte.gz to ./data\\MNIST\\raw\n",
            "\n",
            "Downloading http://yann.lecun.com/exdb/mnist/train-labels-idx1-ubyte.gz\n",
            "Failed to download (trying next):\n",
            "HTTP Error 403: Forbidden\n",
            "\n",
            "Downloading https://ossci-datasets.s3.amazonaws.com/mnist/train-labels-idx1-ubyte.gz\n",
            "Downloading https://ossci-datasets.s3.amazonaws.com/mnist/train-labels-idx1-ubyte.gz to ./data\\MNIST\\raw\\train-labels-idx1-ubyte.gz\n"
          ]
        },
        {
          "name": "stderr",
          "output_type": "stream",
          "text": [
            "100%|██████████| 28881/28881 [00:00<00:00, 262009.05it/s]\n"
          ]
        },
        {
          "name": "stdout",
          "output_type": "stream",
          "text": [
            "Extracting ./data\\MNIST\\raw\\train-labels-idx1-ubyte.gz to ./data\\MNIST\\raw\n",
            "\n",
            "Downloading http://yann.lecun.com/exdb/mnist/t10k-images-idx3-ubyte.gz\n",
            "Failed to download (trying next):\n",
            "HTTP Error 403: Forbidden\n",
            "\n",
            "Downloading https://ossci-datasets.s3.amazonaws.com/mnist/t10k-images-idx3-ubyte.gz\n",
            "Downloading https://ossci-datasets.s3.amazonaws.com/mnist/t10k-images-idx3-ubyte.gz to ./data\\MNIST\\raw\\t10k-images-idx3-ubyte.gz\n"
          ]
        },
        {
          "name": "stderr",
          "output_type": "stream",
          "text": [
            "100%|██████████| 1648877/1648877 [00:00<00:00, 1871203.49it/s]\n"
          ]
        },
        {
          "name": "stdout",
          "output_type": "stream",
          "text": [
            "Extracting ./data\\MNIST\\raw\\t10k-images-idx3-ubyte.gz to ./data\\MNIST\\raw\n",
            "\n",
            "Downloading http://yann.lecun.com/exdb/mnist/t10k-labels-idx1-ubyte.gz\n",
            "Failed to download (trying next):\n",
            "HTTP Error 403: Forbidden\n",
            "\n",
            "Downloading https://ossci-datasets.s3.amazonaws.com/mnist/t10k-labels-idx1-ubyte.gz\n",
            "Downloading https://ossci-datasets.s3.amazonaws.com/mnist/t10k-labels-idx1-ubyte.gz to ./data\\MNIST\\raw\\t10k-labels-idx1-ubyte.gz\n"
          ]
        },
        {
          "name": "stderr",
          "output_type": "stream",
          "text": [
            "100%|██████████| 4542/4542 [00:00<?, ?it/s]"
          ]
        },
        {
          "name": "stdout",
          "output_type": "stream",
          "text": [
            "Extracting ./data\\MNIST\\raw\\t10k-labels-idx1-ubyte.gz to ./data\\MNIST\\raw\n",
            "\n"
          ]
        },
        {
          "name": "stderr",
          "output_type": "stream",
          "text": [
            "\n"
          ]
        }
      ],
      "source": [
        "import torch.nn as nn\n",
        "import numpy as np\n",
        "from sklearn import datasets\n",
        "import matplotlib.pyplot as plt\n",
        "import torchvision\n",
        "import torchvision.transforms as transforms\n",
        "\n",
        "# device\n",
        "device = torch.device('cuda' if torch.cuda.is_available() else 'cpu')\n",
        "\n",
        "# hyperparameters \n",
        "input_size = 784 # 28x28 images\n",
        "hidden_size = 100\n",
        "num_clases = 10\n",
        "num_epochs = 2\n",
        "batch_size = 100\n",
        "lr = 0.001\n",
        "\n",
        "# MNIST\n",
        "train_set = torchvision.datasets.MNIST(root = './data', train = True, transform =transforms.ToTensor() , download = True)\n",
        "test_set = torchvision.datasets.MNIST(root = './data', train = False, transform =transforms.ToTensor() , download = True)\n",
        "\n",
        "# MNIST dataloaders\n",
        "train_loader = torch.utils.data.DataLoader(dataset = train_set, batch_size = batch_size, shuffle = True)\n",
        "test_loader = torch.utils.data.DataLoader(dataset = test_set, batch_size = batch_size, shuffle = False)\n"
      ]
    },
    {
      "cell_type": "code",
      "execution_count": 174,
      "metadata": {},
      "outputs": [
        {
          "name": "stdout",
          "output_type": "stream",
          "text": [
            "Dataset MNIST\n",
            "    Number of datapoints: 60000\n",
            "    Root location: ./data\n",
            "    Split: Train\n",
            "    StandardTransform\n",
            "Transform: ToTensor()\n",
            "Dataset MNIST\n",
            "    Number of datapoints: 10000\n",
            "    Root location: ./data\n",
            "    Split: Test\n",
            "    StandardTransform\n",
            "Transform: ToTensor()\n"
          ]
        }
      ],
      "source": [
        "print(train_set)\n",
        "print(test_set)"
      ]
    },
    {
      "cell_type": "code",
      "execution_count": 171,
      "metadata": {
        "id": "nLuoTVEkKzT3"
      },
      "outputs": [
        {
          "name": "stdout",
          "output_type": "stream",
          "text": [
            "Cuda available:  False\n",
            "\n",
            "\n",
            "\n",
            "Module : NeuralNet(\n",
            "  (l_1): Linear(in_features=784, out_features=100, bias=True)\n",
            "  (Relu): ReLU()\n",
            "  (l_2): Linear(in_features=100, out_features=10, bias=True)\n",
            ")\n",
            "\n",
            "Module : Linear(in_features=784, out_features=100, bias=True)\n",
            "\n",
            "Module : ReLU()\n",
            "\n",
            "Module : Linear(in_features=100, out_features=10, bias=True)\n"
          ]
        }
      ],
      "source": [
        "import torch.nn as nn\n",
        "import numpy as np\n",
        "from sklearn import datasets\n",
        "import matplotlib.pyplot as plt\n",
        "\n",
        "# data samples shape\n",
        "\n",
        "# custom class model (linear regression layer)\n",
        "class NeuralNet(nn.Module):\n",
        "    def __init__(self, input_size,hidden_size, num_classes) -> None:\n",
        "       super().__init__()\n",
        "       self.in_size = input_size\n",
        "       self.hidden = hidden_size\n",
        "       self.num_classes = num_classes\n",
        "       \n",
        "       # Arquitecture of FFN\n",
        "       self.l_1 = nn.Linear(in_features= self.in_size, out_features = self.hidden, bias = True)\n",
        "       self.Relu = nn.ReLU()\n",
        "       self.l_2 = nn.Linear(in_features=  self.hidden, out_features = self.num_classes, bias = True)\n",
        "       \n",
        "    def forward(self,x):\n",
        "        return self.l_2(self.Relu(self.l_1(x)))\n",
        "    \n",
        "\n",
        "# instanciar capa y crear modelo\n",
        "model = NeuralNet(input_size =input_size ,hidden_size = hidden_size, num_classes = num_clases)\n",
        "device = torch.device('cuda' if torch.cuda.is_available() else 'cpu')\n",
        "print(\"Cuda available: \",torch.cuda.is_available())\n",
        "model.to(device)\n",
        "# loss class\n",
        "loss = nn.CrossEntropyLoss()\n",
        "# crea optimizer para prescendir de actualizacion de pesos a mano\n",
        "optimizer = torch.optim.Adam(model.parameters(), lr=0.001, betas=(0.9, 0.999), eps=1e-08)\n",
        "\n",
        "# MODULE CLASS DOCU:\n",
        "\"\"\"nn.Module :\n",
        "Base class for all neural network modules.\n",
        "\n",
        "Your models should also subclass this class.\n",
        "\n",
        "Modules can also contain other Modules, allowing to nest them in a tree structure. You can assign the submodules as regular attributes: \n",
        "self.sub_module = nn.Linear(...)\"\"\"\n",
        "\n",
        "# Iterate along all de modules inside a network class or model class. Notice that LinearRegression module has inside a linear layer \"module\" or only linear layer\n",
        "# note that the atribute name : self.linear will define the string \"linear\" to refer to that layer inside a module\n",
        "# this will be useful when ,inside a class module, there are several layers\n",
        "print(\"\\n\")\n",
        "\n",
        "for m in model.modules():\n",
        "    print(f\"\\nModule : {m}\")\n",
        "\n",
        "# iterate along all the parameters inside a module ( a module can have a lot of layers with their parameters)\n",
        "for p in model.named_parameters(prefix='', recurse=True, remove_duplicate=True):\n",
        "    #print(f\"\\nParameter : {p}\")\n",
        "    pass"
      ]
    },
    {
      "cell_type": "code",
      "execution_count": 172,
      "metadata": {
        "colab": {
          "base_uri": "https://localhost:8080/"
        },
        "id": "2neB6EJOLhpB",
        "outputId": "46ce8dd7-b529-4b84-f56c-6d5228a437f1"
      },
      "outputs": [
        {
          "name": "stderr",
          "output_type": "stream",
          "text": [
            " 10%|█         | 1/10 [00:13<02:00, 13.37s/it]"
          ]
        },
        {
          "name": "stdout",
          "output_type": "stream",
          "text": [
            "epoch : 0\n",
            "loss : 0.270\n"
          ]
        },
        {
          "name": "stderr",
          "output_type": "stream",
          "text": [
            " 20%|██        | 2/10 [00:38<02:42, 20.30s/it]"
          ]
        },
        {
          "name": "stdout",
          "output_type": "stream",
          "text": [
            "epoch : 1\n",
            "loss : 0.140\n"
          ]
        },
        {
          "name": "stderr",
          "output_type": "stream",
          "text": [
            " 30%|███       | 3/10 [00:52<02:01, 17.35s/it]"
          ]
        },
        {
          "name": "stdout",
          "output_type": "stream",
          "text": [
            "epoch : 2\n",
            "loss : 0.167\n"
          ]
        },
        {
          "name": "stderr",
          "output_type": "stream",
          "text": [
            " 40%|████      | 4/10 [01:06<01:35, 15.95s/it]"
          ]
        },
        {
          "name": "stdout",
          "output_type": "stream",
          "text": [
            "epoch : 3\n",
            "loss : 0.107\n"
          ]
        },
        {
          "name": "stderr",
          "output_type": "stream",
          "text": [
            " 50%|█████     | 5/10 [01:19<01:15, 15.05s/it]"
          ]
        },
        {
          "name": "stdout",
          "output_type": "stream",
          "text": [
            "epoch : 4\n",
            "loss : 0.029\n"
          ]
        },
        {
          "name": "stderr",
          "output_type": "stream",
          "text": [
            " 60%|██████    | 6/10 [01:33<00:58, 14.55s/it]"
          ]
        },
        {
          "name": "stdout",
          "output_type": "stream",
          "text": [
            "epoch : 5\n",
            "loss : 0.103\n"
          ]
        },
        {
          "name": "stderr",
          "output_type": "stream",
          "text": [
            " 70%|███████   | 7/10 [01:46<00:42, 14.26s/it]"
          ]
        },
        {
          "name": "stdout",
          "output_type": "stream",
          "text": [
            "epoch : 6\n",
            "loss : 0.032\n"
          ]
        },
        {
          "name": "stderr",
          "output_type": "stream",
          "text": [
            " 80%|████████  | 8/10 [02:00<00:28, 14.17s/it]"
          ]
        },
        {
          "name": "stdout",
          "output_type": "stream",
          "text": [
            "epoch : 7\n",
            "loss : 0.031\n"
          ]
        },
        {
          "name": "stderr",
          "output_type": "stream",
          "text": [
            " 90%|█████████ | 9/10 [02:14<00:14, 14.03s/it]"
          ]
        },
        {
          "name": "stdout",
          "output_type": "stream",
          "text": [
            "epoch : 8\n",
            "loss : 0.028\n"
          ]
        },
        {
          "name": "stderr",
          "output_type": "stream",
          "text": [
            "100%|██████████| 10/10 [02:27<00:00, 14.80s/it]"
          ]
        },
        {
          "name": "stdout",
          "output_type": "stream",
          "text": [
            "epoch : 9\n",
            "loss : 0.032\n"
          ]
        },
        {
          "name": "stderr",
          "output_type": "stream",
          "text": [
            "\n"
          ]
        }
      ],
      "source": [
        "epochs = 10\n",
        "for epoch in tqdm.tqdm(range(epochs)):\n",
        "  for i ,(b_samples ,b_labels) in enumerate(train_loader):\n",
        "    # (100,1,28,28) -> (100, 28*28)\n",
        "    b_samples = b_samples.view(100,28*28).to(device)\n",
        "    #print(b_samples.shape)\n",
        "    # (100) -> (100,1)\n",
        "    b_labels = b_labels.to(device)\n",
        "    \n",
        "    # forward now is == to calling the model\n",
        "    \n",
        "    y_pred = model(b_samples)\n",
        "    #print(y_pred.shape) # (100,10)\n",
        "\n",
        "    # compute loss for all the batch\n",
        "    l   = loss(input = y_pred, target = b_labels) # b_labels debe ser (100) pq crossentropyloss en torch solo necesita el indice de la label no el vector de dimendion 10 entero tipo one hot\n",
        "\n",
        "    # compute the gradients for each w_i : dloss/dw_i (usa grafo computacional y almacena ,en el tensor .grad asociado a cada parametro, el valor del gradiente que luego usa el algoritmo de optimizacion)\n",
        "    l.backward()\n",
        "\n",
        "    # paso del optimizer (en este caso un simple SGD) equivale a lo que haciamos a mano de w += -lr*w.grad\n",
        "    optimizer.step()\n",
        "    \n",
        "    # restore or eliminate the grads inside parameter.grad tensor for next iteration\n",
        "    optimizer.zero_grad()\n",
        "\n",
        "  print(f\"epoch : {epoch}\")\n",
        "  print(f\"loss : {l.item():.3f}\")\n"
      ]
    },
    {
      "cell_type": "code",
      "execution_count": 212,
      "metadata": {},
      "outputs": [
        {
          "name": "stdout",
          "output_type": "stream",
          "text": [
            "Accuarcy 1 for iter/batch 0 : 99\n",
            "Accuarcy 2 for iter/batch 0 : 99\n",
            "Accuarcy 1 for iter/batch 1 : 97\n",
            "Accuarcy 2 for iter/batch 1 : 97\n",
            "Accuarcy 1 for iter/batch 2 : 97\n",
            "Accuarcy 2 for iter/batch 2 : 97\n",
            "Accuarcy 1 for iter/batch 3 : 97\n",
            "Accuarcy 2 for iter/batch 3 : 97\n",
            "Accuarcy 1 for iter/batch 4 : 97\n",
            "Accuarcy 2 for iter/batch 4 : 97\n",
            "Accuarcy 1 for iter/batch 5 : 99\n",
            "Accuarcy 2 for iter/batch 5 : 99\n",
            "Accuarcy 1 for iter/batch 6 : 96\n",
            "Accuarcy 2 for iter/batch 6 : 96\n",
            "Accuarcy 1 for iter/batch 7 : 96\n",
            "Accuarcy 2 for iter/batch 7 : 96\n",
            "Accuarcy 1 for iter/batch 8 : 98\n",
            "Accuarcy 2 for iter/batch 8 : 98\n",
            "Accuarcy 1 for iter/batch 9 : 96\n",
            "Accuarcy 2 for iter/batch 9 : 96\n",
            "Accuarcy 1 for iter/batch 10 : 96\n",
            "Accuarcy 2 for iter/batch 10 : 96\n",
            "Accuarcy 1 for iter/batch 11 : 94\n",
            "Accuarcy 2 for iter/batch 11 : 94\n",
            "Accuarcy 1 for iter/batch 12 : 93\n",
            "Accuarcy 2 for iter/batch 12 : 93\n",
            "Accuarcy 1 for iter/batch 13 : 97\n",
            "Accuarcy 2 for iter/batch 13 : 97\n",
            "Accuarcy 1 for iter/batch 14 : 100\n",
            "Accuarcy 2 for iter/batch 14 : 100\n",
            "Accuarcy 1 for iter/batch 15 : 95\n",
            "Accuarcy 2 for iter/batch 15 : 95\n",
            "Accuarcy 1 for iter/batch 16 : 97\n",
            "Accuarcy 2 for iter/batch 16 : 97\n",
            "Accuarcy 1 for iter/batch 17 : 96\n",
            "Accuarcy 2 for iter/batch 17 : 96\n",
            "Accuarcy 1 for iter/batch 18 : 97\n",
            "Accuarcy 2 for iter/batch 18 : 97\n",
            "Accuarcy 1 for iter/batch 19 : 96\n",
            "Accuarcy 2 for iter/batch 19 : 96\n",
            "Accuarcy 1 for iter/batch 20 : 92\n",
            "Accuarcy 2 for iter/batch 20 : 92\n",
            "Accuarcy 1 for iter/batch 21 : 94\n",
            "Accuarcy 2 for iter/batch 21 : 94\n",
            "Accuarcy 1 for iter/batch 22 : 96\n",
            "Accuarcy 2 for iter/batch 22 : 96\n",
            "Accuarcy 1 for iter/batch 23 : 97\n",
            "Accuarcy 2 for iter/batch 23 : 97\n",
            "Accuarcy 1 for iter/batch 24 : 96\n",
            "Accuarcy 2 for iter/batch 24 : 96\n",
            "Accuarcy 1 for iter/batch 25 : 99\n",
            "Accuarcy 2 for iter/batch 25 : 99\n",
            "Accuarcy 1 for iter/batch 26 : 96\n",
            "Accuarcy 2 for iter/batch 26 : 96\n",
            "Accuarcy 1 for iter/batch 27 : 100\n",
            "Accuarcy 2 for iter/batch 27 : 100\n",
            "Accuarcy 1 for iter/batch 28 : 97\n",
            "Accuarcy 2 for iter/batch 28 : 97\n",
            "Accuarcy 1 for iter/batch 29 : 95\n",
            "Accuarcy 2 for iter/batch 29 : 95\n",
            "Accuarcy 1 for iter/batch 30 : 99\n",
            "Accuarcy 2 for iter/batch 30 : 99\n",
            "Accuarcy 1 for iter/batch 31 : 98\n",
            "Accuarcy 2 for iter/batch 31 : 98\n",
            "Accuarcy 1 for iter/batch 32 : 99\n",
            "Accuarcy 2 for iter/batch 32 : 99\n",
            "Accuarcy 1 for iter/batch 33 : 100\n",
            "Accuarcy 2 for iter/batch 33 : 100\n",
            "Accuarcy 1 for iter/batch 34 : 97\n",
            "Accuarcy 2 for iter/batch 34 : 97\n",
            "Accuarcy 1 for iter/batch 35 : 92\n",
            "Accuarcy 2 for iter/batch 35 : 92\n",
            "Accuarcy 1 for iter/batch 36 : 96\n",
            "Accuarcy 2 for iter/batch 36 : 96\n",
            "Accuarcy 1 for iter/batch 37 : 93\n",
            "Accuarcy 2 for iter/batch 37 : 93\n",
            "Accuarcy 1 for iter/batch 38 : 96\n",
            "Accuarcy 2 for iter/batch 38 : 96\n",
            "Accuarcy 1 for iter/batch 39 : 96\n",
            "Accuarcy 2 for iter/batch 39 : 96\n",
            "Accuarcy 1 for iter/batch 40 : 96\n",
            "Accuarcy 2 for iter/batch 40 : 96\n",
            "Accuarcy 1 for iter/batch 41 : 98\n",
            "Accuarcy 2 for iter/batch 41 : 98\n",
            "Accuarcy 1 for iter/batch 42 : 95\n",
            "Accuarcy 2 for iter/batch 42 : 95\n",
            "Accuarcy 1 for iter/batch 43 : 95\n",
            "Accuarcy 2 for iter/batch 43 : 95\n",
            "Accuarcy 1 for iter/batch 44 : 96\n",
            "Accuarcy 2 for iter/batch 44 : 96\n",
            "Accuarcy 1 for iter/batch 45 : 98\n",
            "Accuarcy 2 for iter/batch 45 : 98\n",
            "Accuarcy 1 for iter/batch 46 : 99\n",
            "Accuarcy 2 for iter/batch 46 : 99\n",
            "Accuarcy 1 for iter/batch 47 : 100\n",
            "Accuarcy 2 for iter/batch 47 : 100\n",
            "Accuarcy 1 for iter/batch 48 : 95\n",
            "Accuarcy 2 for iter/batch 48 : 95\n",
            "Accuarcy 1 for iter/batch 49 : 97\n",
            "Accuarcy 2 for iter/batch 49 : 97\n",
            "Accuarcy 1 for iter/batch 50 : 99\n",
            "Accuarcy 2 for iter/batch 50 : 99\n",
            "Accuarcy 1 for iter/batch 51 : 98\n",
            "Accuarcy 2 for iter/batch 51 : 98\n",
            "Accuarcy 1 for iter/batch 52 : 100\n",
            "Accuarcy 2 for iter/batch 52 : 100\n",
            "Accuarcy 1 for iter/batch 53 : 99\n",
            "Accuarcy 2 for iter/batch 53 : 99\n",
            "Accuarcy 1 for iter/batch 54 : 98\n",
            "Accuarcy 2 for iter/batch 54 : 98\n",
            "Accuarcy 1 for iter/batch 55 : 100\n",
            "Accuarcy 2 for iter/batch 55 : 100\n",
            "Accuarcy 1 for iter/batch 56 : 97\n",
            "Accuarcy 2 for iter/batch 56 : 97\n",
            "Accuarcy 1 for iter/batch 57 : 98\n",
            "Accuarcy 2 for iter/batch 57 : 98\n",
            "Accuarcy 1 for iter/batch 58 : 97\n",
            "Accuarcy 2 for iter/batch 58 : 97\n",
            "Accuarcy 1 for iter/batch 59 : 92\n",
            "Accuarcy 2 for iter/batch 59 : 92\n",
            "Accuarcy 1 for iter/batch 60 : 98\n",
            "Accuarcy 2 for iter/batch 60 : 98\n",
            "Accuarcy 1 for iter/batch 61 : 99\n",
            "Accuarcy 2 for iter/batch 61 : 99\n",
            "Accuarcy 1 for iter/batch 62 : 100\n",
            "Accuarcy 2 for iter/batch 62 : 100\n",
            "Accuarcy 1 for iter/batch 63 : 99\n",
            "Accuarcy 2 for iter/batch 63 : 99\n",
            "Accuarcy 1 for iter/batch 64 : 98\n",
            "Accuarcy 2 for iter/batch 64 : 98\n",
            "Accuarcy 1 for iter/batch 65 : 93\n",
            "Accuarcy 2 for iter/batch 65 : 93\n",
            "Accuarcy 1 for iter/batch 66 : 99\n",
            "Accuarcy 2 for iter/batch 66 : 99\n",
            "Accuarcy 1 for iter/batch 67 : 96\n",
            "Accuarcy 2 for iter/batch 67 : 96\n",
            "Accuarcy 1 for iter/batch 68 : 100\n",
            "Accuarcy 2 for iter/batch 68 : 100\n",
            "Accuarcy 1 for iter/batch 69 : 100\n",
            "Accuarcy 2 for iter/batch 69 : 100\n",
            "Accuarcy 1 for iter/batch 70 : 99\n",
            "Accuarcy 2 for iter/batch 70 : 99\n",
            "Accuarcy 1 for iter/batch 71 : 100\n",
            "Accuarcy 2 for iter/batch 71 : 100\n",
            "Accuarcy 1 for iter/batch 72 : 99\n",
            "Accuarcy 2 for iter/batch 72 : 99\n",
            "Accuarcy 1 for iter/batch 73 : 100\n",
            "Accuarcy 2 for iter/batch 73 : 100\n",
            "Accuarcy 1 for iter/batch 74 : 99\n",
            "Accuarcy 2 for iter/batch 74 : 99\n",
            "Accuarcy 1 for iter/batch 75 : 99\n",
            "Accuarcy 2 for iter/batch 75 : 99\n",
            "Accuarcy 1 for iter/batch 76 : 100\n",
            "Accuarcy 2 for iter/batch 76 : 100\n",
            "Accuarcy 1 for iter/batch 77 : 100\n",
            "Accuarcy 2 for iter/batch 77 : 100\n",
            "Accuarcy 1 for iter/batch 78 : 98\n",
            "Accuarcy 2 for iter/batch 78 : 98\n",
            "Accuarcy 1 for iter/batch 79 : 99\n",
            "Accuarcy 2 for iter/batch 79 : 99\n",
            "Accuarcy 1 for iter/batch 80 : 98\n",
            "Accuarcy 2 for iter/batch 80 : 98\n",
            "Accuarcy 1 for iter/batch 81 : 98\n",
            "Accuarcy 2 for iter/batch 81 : 98\n",
            "Accuarcy 1 for iter/batch 82 : 100\n",
            "Accuarcy 2 for iter/batch 82 : 100\n",
            "Accuarcy 1 for iter/batch 83 : 99\n",
            "Accuarcy 2 for iter/batch 83 : 99\n",
            "Accuarcy 1 for iter/batch 84 : 98\n",
            "Accuarcy 2 for iter/batch 84 : 98\n",
            "Accuarcy 1 for iter/batch 85 : 97\n",
            "Accuarcy 2 for iter/batch 85 : 97\n",
            "Accuarcy 1 for iter/batch 86 : 100\n",
            "Accuarcy 2 for iter/batch 86 : 100\n",
            "Accuarcy 1 for iter/batch 87 : 100\n",
            "Accuarcy 2 for iter/batch 87 : 100\n",
            "Accuarcy 1 for iter/batch 88 : 100\n",
            "Accuarcy 2 for iter/batch 88 : 100\n",
            "Accuarcy 1 for iter/batch 89 : 100\n",
            "Accuarcy 2 for iter/batch 89 : 100\n",
            "Accuarcy 1 for iter/batch 90 : 96\n",
            "Accuarcy 2 for iter/batch 90 : 96\n",
            "Accuarcy 1 for iter/batch 91 : 100\n",
            "Accuarcy 2 for iter/batch 91 : 100\n",
            "Accuarcy 1 for iter/batch 92 : 99\n",
            "Accuarcy 2 for iter/batch 92 : 99\n",
            "Accuarcy 1 for iter/batch 93 : 100\n",
            "Accuarcy 2 for iter/batch 93 : 100\n",
            "Accuarcy 1 for iter/batch 94 : 97\n",
            "Accuarcy 2 for iter/batch 94 : 97\n",
            "Accuarcy 1 for iter/batch 95 : 98\n",
            "Accuarcy 2 for iter/batch 95 : 98\n",
            "Accuarcy 1 for iter/batch 96 : 96\n",
            "Accuarcy 2 for iter/batch 96 : 96\n",
            "Accuarcy 1 for iter/batch 97 : 92\n",
            "Accuarcy 2 for iter/batch 97 : 92\n",
            "Accuarcy 1 for iter/batch 98 : 98\n",
            "Accuarcy 2 for iter/batch 98 : 98\n",
            "Accuarcy 1 for iter/batch 99 : 98\n",
            "Accuarcy 2 for iter/batch 99 : 98\n",
            "Total accuracy 1 : 0.9746999740600586\n",
            "Total accuracy 2: 0.9746999740600586\n"
          ]
        }
      ],
      "source": [
        "# Evaluation / metrics \n",
        "with torch.no_grad():\n",
        "    accuracy = 0\n",
        "    accuracy_2 = 0  \n",
        "    samples = 0\n",
        "    for i, (b_images,b_labels) in enumerate(test_loader):\n",
        "        samples += 100\n",
        "        b_images = b_images.view(100, 28*28)\n",
        "        y_test_pred = model(b_images)\n",
        "        \n",
        "        # Segundo metodo accuracy\n",
        "        _,pred_class_2 = torch.max(y_test_pred ,dim =  1)\n",
        "        accuracy_2 += (pred_class_2 == b_labels).sum()\n",
        "        \n",
        "        # Primer metodo accurcy\n",
        "        pred_class = y_test_pred.argmax(dim = 1)\n",
        "        accuracy += torch.sum(pred_class == b_labels)\n",
        "        print(f\"Accuarcy 1 for iter/batch {i} : {torch.sum(pred_class == b_labels)}\")\n",
        "        print(f\"Accuarcy 2 for iter/batch {i} : {(pred_class_2 == b_labels).sum()}\")\n",
        "\n",
        "\n",
        "    accuracy = accuracy / samples\n",
        "    accuracy_2 = accuracy_2 / samples \n",
        "    print(\"Total accuracy 1 :\", accuracy.item())\n",
        "    print(\"Total accuracy 2:\", accuracy_2.item())\n",
        "        "
      ]
    },
    {
      "cell_type": "markdown",
      "metadata": {},
      "source": [
        "### TORCH : LOGISTIC REGRESSION"
      ]
    },
    {
      "cell_type": "code",
      "execution_count": 295,
      "metadata": {
        "colab": {
          "base_uri": "https://localhost:8080/"
        },
        "id": "dyNsbbhcOxR5",
        "outputId": "d344168f-8c5b-45c1-b866-8a359f4ad548"
      },
      "outputs": [
        {
          "name": "stdout",
          "output_type": "stream",
          "text": [
            "(398, 30) (398,) (171, 30) (171,)\n",
            "torch.Size([398, 30]) torch.Size([398]) torch.Size([171, 30]) torch.Size([171])\n",
            "Comprobacion de si Y_train codificado probabilidades o one hot (0/1) tensor([1., 1., 0., 0., 1.])\n"
          ]
        }
      ],
      "source": [
        "import torch.nn as nn\n",
        "import numpy as np\n",
        "from sklearn import datasets\n",
        "from sklearn.preprocessing import StandardScaler\n",
        "from sklearn.model_selection import train_test_split\n",
        "import matplotlib.pyplot as plt\n",
        "\n",
        "\n",
        "# device\n",
        "device = torch.device('cuda' if torch.cuda.is_available() else 'cpu')\n",
        "\n",
        "# hyperparameters \n",
        "batch_size = 20\n",
        "num_clases = 2\n",
        "num_epochs = 100\n",
        "lr = 0.01\n",
        "\n",
        "# DATA\n",
        "bc = datasets.load_breast_cancer()\n",
        "x,y = bc.data, bc.target\n",
        "x_train, x_test, y_train, y_test = train_test_split(x,y, train_size = 0.7, test_size = 0.3, random_state = 1234)\n",
        "print(x_train.shape, y_train.shape, x_test.shape, y_test.shape)\n",
        "\n",
        "# std\n",
        "sc = StandardScaler()\n",
        "sc.fit(x_train)\n",
        "x_train_std = sc.transform(x_train)\n",
        "x_test_std = sc.transform(x_test)\n",
        "\n",
        "# numpy -> tensor\n",
        "X_train_std = torch.from_numpy(x_train_std.astype(np.float32))\n",
        "Y_train = torch.from_numpy(y_train.astype(np.float32))\n",
        "X_test_std = torch.from_numpy(x_test_std.astype(np.float32))\n",
        "Y_test = torch.from_numpy(y_test.astype(np.float32))\n",
        "\n",
        "print(X_train_std.shape, Y_train.shape, X_test_std.shape, Y_test.shape)\n",
        "print(f\"Comprobacion de si Y_train codificado probabilidades o one hot (0/1) {Y_train[0:5]}\")\n"
      ]
    },
    {
      "cell_type": "code",
      "execution_count": 301,
      "metadata": {
        "colab": {
          "base_uri": "https://localhost:8080/"
        },
        "id": "1VCjpi0oiL9g",
        "outputId": "82ec7283-dfb7-4fdc-810c-d2c10d398540"
      },
      "outputs": [
        {
          "name": "stdout",
          "output_type": "stream",
          "text": [
            "\n",
            "\n",
            "\n",
            "Module : LogisticRegression(\n",
            "  (l_1): Linear(in_features=30, out_features=1, bias=True)\n",
            "  (sigmoid): Sigmoid()\n",
            ")\n",
            "\n",
            "Module : Linear(in_features=30, out_features=1, bias=True)\n",
            "\n",
            "Module : Sigmoid()\n",
            "\n",
            "Parameter : ('l_1.weight', Parameter containing:\n",
            "tensor([[ 0.0449,  0.1248,  0.0375,  0.0530,  0.0539, -0.0189,  0.1298,  0.0623,\n",
            "          0.1515,  0.1021,  0.1508,  0.0664, -0.1004, -0.1302,  0.1029,  0.0196,\n",
            "         -0.0349, -0.1355, -0.1611, -0.0982, -0.0774,  0.1115,  0.0163, -0.1495,\n",
            "         -0.0345,  0.1571,  0.0676, -0.0299,  0.0386, -0.0668]],\n",
            "       requires_grad=True))\n",
            "\n",
            "Parameter : ('l_1.bias', Parameter containing:\n",
            "tensor([-0.0826], requires_grad=True))\n"
          ]
        }
      ],
      "source": [
        "# model\n",
        "class LogisticRegression(nn.Module):\n",
        "    def __init__(self,features) -> None:\n",
        "        super().__init__()\n",
        "        self.l_1 = nn.Linear(in_features = features, out_features = 1, bias=True)\n",
        "        self.sigmoid = nn.Sigmoid()\n",
        "        \n",
        "    def forward(self,x):\n",
        "        return self.sigmoid(self.l_1(x))\n",
        "\n",
        "# model object\n",
        "model = LogisticRegression(features = X_train_std.shape[1])\n",
        "\n",
        "# loss function\n",
        "loss = nn.BCELoss()\n",
        "\n",
        "# optimizer \n",
        "adam = torch.optim.Adam(params = model.parameters(), lr=lr, betas=(0.9, 0.999), eps=1e-08)\n",
        "\n",
        "\n",
        "print(\"\\n\")\n",
        "\n",
        "for m in model.modules():\n",
        "    print(f\"\\nModule : {m}\")\n",
        "\n",
        "# iterate along all the parameters inside a module ( a module can have a lot of layers with their parameters)\n",
        "for p in model.named_parameters(prefix='', recurse=True, remove_duplicate=True):\n",
        "    print(f\"\\nParameter : {p}\")"
      ]
    },
    {
      "cell_type": "code",
      "execution_count": 302,
      "metadata": {
        "colab": {
          "base_uri": "https://localhost:8080/"
        },
        "id": "iUo6snO-ivUr",
        "outputId": "583d06ad-cb10-4341-bc94-dc84755ceb05"
      },
      "outputs": [
        {
          "name": "stderr",
          "output_type": "stream",
          "text": [
            "  6%|▌         | 6/100 [00:00<00:02, 46.18it/s]"
          ]
        },
        {
          "name": "stdout",
          "output_type": "stream",
          "text": [
            "epoch : 0\n",
            "loss : 0.204\n",
            "epoch : 1\n",
            "loss : 0.107\n",
            "epoch : 2\n",
            "loss : 0.078\n",
            "epoch : 3\n",
            "loss : 0.062\n",
            "epoch : 4\n",
            "loss : 0.052\n",
            "epoch : 5\n",
            "loss : 0.045\n",
            "epoch : 6\n",
            "loss : 0.039\n",
            "epoch : 7\n",
            "loss : 0.035\n",
            "epoch : 8\n",
            "loss : 0.032\n",
            "epoch : 9\n",
            "loss : 0.029\n",
            "epoch : 10\n",
            "loss : 0.027\n"
          ]
        },
        {
          "name": "stderr",
          "output_type": "stream",
          "text": [
            " 25%|██▌       | 25/100 [00:00<00:00, 79.51it/s]"
          ]
        },
        {
          "name": "stdout",
          "output_type": "stream",
          "text": [
            "epoch : 11\n",
            "loss : 0.025\n",
            "epoch : 12\n",
            "loss : 0.023\n",
            "epoch : 13\n",
            "loss : 0.022\n",
            "epoch : 14\n",
            "loss : 0.020\n",
            "epoch : 15\n",
            "loss : 0.019\n",
            "epoch : 16\n",
            "loss : 0.018\n",
            "epoch : 17\n",
            "loss : 0.017\n",
            "epoch : 18\n",
            "loss : 0.016\n",
            "epoch : 19\n",
            "loss : 0.015\n",
            "epoch : 20\n",
            "loss : 0.015\n",
            "epoch : 21\n",
            "loss : 0.014\n",
            "epoch : 22\n",
            "loss : 0.013\n",
            "epoch : 23\n",
            "loss : 0.013\n",
            "epoch : 24\n",
            "loss : 0.012\n",
            "epoch : 25\n",
            "loss : 0.012\n",
            "epoch : 26\n",
            "loss : 0.011\n",
            "epoch : 27\n",
            "loss : 0.011\n",
            "epoch : 28\n",
            "loss : 0.010\n",
            "epoch : 29\n",
            "loss : 0.010\n",
            "epoch : 30\n",
            "loss : 0.010\n"
          ]
        },
        {
          "name": "stderr",
          "output_type": "stream",
          "text": [
            " 44%|████▍     | 44/100 [00:00<00:00, 85.73it/s]"
          ]
        },
        {
          "name": "stdout",
          "output_type": "stream",
          "text": [
            "epoch : 31\n",
            "loss : 0.009\n",
            "epoch : 32\n",
            "loss : 0.009\n",
            "epoch : 33\n",
            "loss : 0.009\n",
            "epoch : 34\n",
            "loss : 0.009\n",
            "epoch : 35\n",
            "loss : 0.008\n",
            "epoch : 36\n",
            "loss : 0.008\n",
            "epoch : 37\n",
            "loss : 0.008\n",
            "epoch : 38\n",
            "loss : 0.008\n",
            "epoch : 39\n",
            "loss : 0.007\n",
            "epoch : 40\n",
            "loss : 0.007\n",
            "epoch : 41\n",
            "loss : 0.007\n",
            "epoch : 42\n",
            "loss : 0.007\n",
            "epoch : 43\n",
            "loss : 0.007\n",
            "epoch : 44\n",
            "loss : 0.006\n",
            "epoch : 45\n",
            "loss : 0.006\n",
            "epoch : 46\n",
            "loss : 0.006\n",
            "epoch : 47\n",
            "loss : 0.006\n",
            "epoch : 48\n",
            "loss : 0.006\n"
          ]
        },
        {
          "name": "stderr",
          "output_type": "stream",
          "text": [
            " 62%|██████▏   | 62/100 [00:00<00:00, 87.08it/s]"
          ]
        },
        {
          "name": "stdout",
          "output_type": "stream",
          "text": [
            "epoch : 49\n",
            "loss : 0.006\n",
            "epoch : 50\n",
            "loss : 0.006\n",
            "epoch : 51\n",
            "loss : 0.005\n",
            "epoch : 52\n",
            "loss : 0.005\n",
            "epoch : 53\n",
            "loss : 0.005\n",
            "epoch : 54\n",
            "loss : 0.005\n",
            "epoch : 55\n",
            "loss : 0.005\n",
            "epoch : 56\n",
            "loss : 0.005\n",
            "epoch : 57\n",
            "loss : 0.005\n",
            "epoch : 58\n",
            "loss : 0.005\n",
            "epoch : 59\n",
            "loss : 0.005\n",
            "epoch : 60\n",
            "loss : 0.004\n",
            "epoch : 61\n",
            "loss : 0.004\n",
            "epoch : 62\n",
            "loss : 0.004\n",
            "epoch : 63\n",
            "loss : 0.004\n",
            "epoch : 64\n",
            "loss : 0.004\n",
            "epoch : 65\n",
            "loss : 0.004\n",
            "epoch : 66\n",
            "loss : 0.004\n",
            "epoch : 67\n",
            "loss : 0.004\n",
            "epoch : 68\n",
            "loss : 0.004\n",
            "epoch : 69\n",
            "loss : 0.004\n"
          ]
        },
        {
          "name": "stderr",
          "output_type": "stream",
          "text": [
            " 83%|████████▎ | 83/100 [00:00<00:00, 89.82it/s]"
          ]
        },
        {
          "name": "stdout",
          "output_type": "stream",
          "text": [
            "epoch : 70\n",
            "loss : 0.004\n",
            "epoch : 71\n",
            "loss : 0.004\n",
            "epoch : 72\n",
            "loss : 0.004\n",
            "epoch : 73\n",
            "loss : 0.004\n",
            "epoch : 74\n",
            "loss : 0.004\n",
            "epoch : 75\n",
            "loss : 0.003\n",
            "epoch : 76\n",
            "loss : 0.003\n",
            "epoch : 77\n",
            "loss : 0.003\n",
            "epoch : 78\n",
            "loss : 0.003\n",
            "epoch : 79\n",
            "loss : 0.003\n",
            "epoch : 80\n",
            "loss : 0.003\n",
            "epoch : 81\n",
            "loss : 0.003\n",
            "epoch : 82\n",
            "loss : 0.003\n",
            "epoch : 83\n",
            "loss : 0.003\n",
            "epoch : 84\n",
            "loss : 0.003\n",
            "epoch : 85\n",
            "loss : 0.003\n",
            "epoch : 86\n",
            "loss : 0.003\n",
            "epoch : 87\n",
            "loss : 0.003\n"
          ]
        },
        {
          "name": "stderr",
          "output_type": "stream",
          "text": [
            "100%|██████████| 100/100 [00:01<00:00, 80.68it/s]"
          ]
        },
        {
          "name": "stdout",
          "output_type": "stream",
          "text": [
            "epoch : 88\n",
            "loss : 0.003\n",
            "epoch : 89\n",
            "loss : 0.003\n",
            "epoch : 90\n",
            "loss : 0.003\n",
            "epoch : 91\n",
            "loss : 0.003\n",
            "epoch : 92\n",
            "loss : 0.003\n",
            "epoch : 93\n",
            "loss : 0.003\n",
            "epoch : 94\n",
            "loss : 0.003\n",
            "epoch : 95\n",
            "loss : 0.003\n",
            "epoch : 96\n",
            "loss : 0.003\n",
            "epoch : 97\n",
            "loss : 0.003\n",
            "epoch : 98\n",
            "loss : 0.003\n",
            "epoch : 99\n",
            "loss : 0.003\n"
          ]
        },
        {
          "name": "stderr",
          "output_type": "stream",
          "text": [
            "\n"
          ]
        }
      ],
      "source": [
        "for epoch in tqdm.tqdm(range(num_epochs)):\n",
        "  for i in range(0,X_train_std.shape[0],batch_size):\n",
        "    if batch_size+i >  X_train_std.shape[0]:\n",
        "      last_index = X_train_std.shape[0]\n",
        "      b_samples =  X_train_std.shape[0]  - i \n",
        "    else:\n",
        "      last_index = batch_size + i\n",
        "      b_samples = batch_size\n",
        "      \n",
        "    b_x = X_train_std[i:last_index,:]\n",
        "    b_y = Y_train[i:last_index]\n",
        "\n",
        "    # forward\n",
        "    y_pred = model(b_x).view(b_samples)\n",
        "    \n",
        "\n",
        "    # loss == computar grafo computacional de la funcion perdida hacia atras para despues calcular gradientes de forma efectiva\n",
        "    l = loss(input = y_pred, target = b_y)\n",
        "    \n",
        "    # backwardpropa == calculo de gradientes de loss respecto pesos y alamacena en tensor .grad asociado a tensor de parametros\n",
        "    l.backward()\n",
        "    \n",
        "    # paso del optimizer == recoge gradientes calculados (dentro de tensor parameters.grad ) y actualiza pesos en funcion algoritmo de optimizacion elegido\n",
        "    adam.step()\n",
        "    \n",
        "    # borrado de gradientes dentro del tensor\n",
        "    adam.zero_grad()\n",
        "    \n",
        "  print(f\"epoch : {epoch}\")\n",
        "  print(f\"loss : {l.item():.3f}\")\n",
        "  "
      ]
    },
    {
      "cell_type": "code",
      "execution_count": 303,
      "metadata": {},
      "outputs": [
        {
          "name": "stdout",
          "output_type": "stream",
          "text": [
            "torch.Size([171, 1])\n",
            "Total accuracy 1 : 0.9473684430122375\n",
            "Total accuracy 2 : 0.9473684430122375\n"
          ]
        }
      ],
      "source": [
        "# Evaluation / metrics \n",
        "with torch.no_grad():\n",
        "    y_test_pred_proba = model(X_test_std)\n",
        "    print(y_test_pred.shape)\n",
        "    \n",
        "    # Establece umbral de ser o no de la clase 1 en funcion de probabilidad; recuerda que y_pred son las probabilidades de pertenecer a clase 1\n",
        "    # es decir se transforma el tensor de probabilidad en un tensor de prediccion de clase 0 o 1\n",
        "    threshold = 0.5\n",
        "    \n",
        "    # forma 1\n",
        "    y_test_pred_class = torch.tensor([1 if prob_i > threshold else 0 for prob_i in y_test_pred_proba], dtype = torch.int)\n",
        "    \n",
        "    # forma 2\n",
        "    y_test_pred_class_2 = torch.zeros(y_test_pred_proba.shape[0])\n",
        "    for i,y_i in enumerate(y_test_pred_proba.view(y_test_pred_proba.shape[0])):\n",
        "        if y_i.item() > threshold:\n",
        "            y_test_pred_class_2[i] = 1\n",
        "        else:\n",
        "            y_test_pred_class_2[i] = 0\n",
        "    \n",
        "    # Metodo accuracy\n",
        "    accuracy = torch.sum(y_test_pred_class == Y_test) / X_test_std.shape[0]\n",
        "    accuracy_2 = torch.sum(y_test_pred_class_2 == Y_test) / X_test_std.shape[0]\n",
        "    \n",
        "    \n",
        "    print(\"Total accuracy 1 :\", accuracy.item())\n",
        "    print(\"Total accuracy 2 :\", accuracy_2.item())"
      ]
    },
    {
      "cell_type": "markdown",
      "metadata": {},
      "source": [
        "### TORCH CONVOLUTIONAL MULTICLASS "
      ]
    },
    {
      "cell_type": "code",
      "execution_count": 132,
      "metadata": {
        "id": "rr1JvHD8_VG9"
      },
      "outputs": [
        {
          "name": "stdout",
          "output_type": "stream",
          "text": [
            "Requirement already satisfied: torch in c:\\users\\jorge\\desktop\\master_ia\\torch\\env\\lib\\site-packages (2.3.0)\n",
            "Requirement already satisfied: filelock in c:\\users\\jorge\\desktop\\master_ia\\torch\\env\\lib\\site-packages (from torch) (3.14.0)\n",
            "Requirement already satisfied: typing-extensions>=4.8.0 in c:\\users\\jorge\\desktop\\master_ia\\torch\\env\\lib\\site-packages (from torch) (4.11.0)\n",
            "Requirement already satisfied: sympy in c:\\users\\jorge\\desktop\\master_ia\\torch\\env\\lib\\site-packages (from torch) (1.12)\n",
            "Requirement already satisfied: networkx in c:\\users\\jorge\\desktop\\master_ia\\torch\\env\\lib\\site-packages (from torch) (3.3)\n",
            "Requirement already satisfied: jinja2 in c:\\users\\jorge\\desktop\\master_ia\\torch\\env\\lib\\site-packages (from torch) (3.1.3)\n",
            "Requirement already satisfied: fsspec in c:\\users\\jorge\\desktop\\master_ia\\torch\\env\\lib\\site-packages (from torch) (2024.3.1)\n",
            "Requirement already satisfied: mkl<=2021.4.0,>=2021.1.1 in c:\\users\\jorge\\desktop\\master_ia\\torch\\env\\lib\\site-packages (from torch) (2021.4.0)\n",
            "Requirement already satisfied: intel-openmp==2021.* in c:\\users\\jorge\\desktop\\master_ia\\torch\\env\\lib\\site-packages (from mkl<=2021.4.0,>=2021.1.1->torch) (2021.4.0)\n",
            "Requirement already satisfied: tbb==2021.* in c:\\users\\jorge\\desktop\\master_ia\\torch\\env\\lib\\site-packages (from mkl<=2021.4.0,>=2021.1.1->torch) (2021.12.0)\n",
            "Requirement already satisfied: MarkupSafe>=2.0 in c:\\users\\jorge\\desktop\\master_ia\\torch\\env\\lib\\site-packages (from jinja2->torch) (2.1.5)\n",
            "Requirement already satisfied: mpmath>=0.19 in c:\\users\\jorge\\desktop\\master_ia\\torch\\env\\lib\\site-packages (from sympy->torch) (1.3.0)\n",
            "Note: you may need to restart the kernel to use updated packages.\n"
          ]
        },
        {
          "name": "stderr",
          "output_type": "stream",
          "text": [
            "\n",
            "[notice] A new release of pip is available: 23.2.1 -> 24.0\n",
            "[notice] To update, run: python.exe -m pip install --upgrade pip\n"
          ]
        }
      ],
      "source": [
        "%pip install torch \n",
        "import torch.nn as nn\n",
        "import torch \n",
        "import numpy as np\n",
        "from sklearn import datasets\n",
        "import matplotlib.pyplot as plt\n",
        "import torchvision\n",
        "import torchvision.transforms as transforms\n",
        "\n",
        "# device\n",
        "device = torch.device('cuda' if torch.cuda.is_available() else 'cpu')\n",
        "\n",
        "# hyperparameters \n",
        "num_clases = 10\n",
        "num_epochs = 10\n",
        "BATCH_SIZE = 100\n",
        "lr = 0.001\n",
        "\n",
        "# MNIST\n",
        "train_set = torchvision.datasets.MNIST(root = './data', train = True, transform =transforms.ToTensor() , download = True)\n",
        "test_set = torchvision.datasets.MNIST(root = './data', train = False, transform =transforms.ToTensor() , download = True)\n",
        "\n",
        "# MNIST dataloaders\n",
        "train_loader = torch.utils.data.DataLoader(dataset = train_set, batch_size = BATCH_SIZE, shuffle = True)\n",
        "test_loader = torch.utils.data.DataLoader(dataset = test_set, batch_size = BATCH_SIZE, shuffle = False)"
      ]
    },
    {
      "cell_type": "code",
      "execution_count": 133,
      "metadata": {},
      "outputs": [
        {
          "name": "stdout",
          "output_type": "stream",
          "text": [
            "Dataset MNIST\n",
            "    Number of datapoints: 60000\n",
            "    Root location: ./data\n",
            "    Split: Train\n",
            "    StandardTransform\n",
            "Transform: ToTensor()\n",
            "Dataset MNIST\n",
            "    Number of datapoints: 10000\n",
            "    Root location: ./data\n",
            "    Split: Test\n",
            "    StandardTransform\n",
            "Transform: ToTensor()\n"
          ]
        },
        {
          "data": {
            "text/plain": [
              "'for s,t in train_loader:\\n    print(t.shape)'"
            ]
          },
          "execution_count": 133,
          "metadata": {},
          "output_type": "execute_result"
        }
      ],
      "source": [
        "print(train_set)\n",
        "print(test_set)\n",
        "# batch size = 100\n",
        "# s -> (100,1,28,28)\n",
        "# t -> (100)\n",
        "\"\"\"for s,t in train_loader:\n",
        "    print(t.shape)\"\"\""
      ]
    },
    {
      "cell_type": "code",
      "execution_count": 134,
      "metadata": {},
      "outputs": [],
      "source": [
        "class NeuralConvNet(nn.Module):\n",
        "    def __init__(self,num_classes) -> None:\n",
        "        super().__init__()\n",
        "        # (100,1,28,28)\n",
        "        self.conv_1 = nn.Conv2d(in_channels = 1 , out_channels = 6, kernel_size = 5 , stride=1, padding=0)\n",
        "        # [(w-F +2*p) / s] + 1 --> [(28-5 + 2*0) / 1] + 1 = 24 -> (100, 6, 24, 24)\n",
        "        self.relu_1 = nn.ReLU()\n",
        "        #  (100, 6, 24, 24) \n",
        "        self.maxp_1 = nn.MaxPool2d(kernel_size = 2 , stride=2, padding=0)\n",
        "        # (100, 6,24,24) -> (100,6, 12, 12)\n",
        "        self.conv_2 = nn.Conv2d(in_channels = 6 , out_channels = 16 , kernel_size = 5  , stride=1, padding=0)\n",
        "        # [(w-F +2*p) / s] + 1 --> [(12-5 + 2*0) / 1] + 1 = 8 -> (100, 16, 8, 8)\n",
        "        self.relu_2 = nn.ReLU()\n",
        "        # (100, 16, 8, 8)\n",
        "        self.maxp_2 = nn.MaxPool2d(kernel_size = 2  , stride=2, padding=0)\n",
        "        # (100, 16, 4, 4) -> FALTTEN -> (100, 16*4*4)\n",
        "        self.l_1 = nn.Linear(in_features = 16*4*4 , out_features = num_classes, bias=True)\n",
        "        \n",
        "    def forward(self,x):\n",
        "        out = self.conv_1(x)\n",
        "        out = self.relu_1(out)\n",
        "        out = self.maxp_1(out)\n",
        "        out = self.conv_2(out)\n",
        "        out = self.relu_2(out)\n",
        "        out = self.maxp_2(out)\n",
        "        out = out.view(-1, 16*4*4) # FLATTEN\n",
        "        #print(\"out.shape : \", out.shape)\n",
        "        return self.l_1(out)\n",
        "        \n",
        "# model\n",
        "model = NeuralConvNet(num_classes = 10)\n",
        "\n",
        "# loss \n",
        "loss = nn.CrossEntropyLoss()\n",
        "\n",
        "# optimizer\n",
        "optimizer = torch.optim.Adam(params = model.parameters(), lr=lr, betas=(0.9, 0.999), eps=1e-08)\n"
      ]
    },
    {
      "cell_type": "code",
      "execution_count": 135,
      "metadata": {},
      "outputs": [
        {
          "data": {
            "image/png": "[encoded data removed]",
            "text/plain": [
              "<Figure size 1200x800 with 1 Axes>"
            ]
          },
          "metadata": {},
          "output_type": "display_data"
        },
        {
          "name": "stderr",
          "output_type": "stream",
          "text": [
            "100%|██████████| 10/10 [02:43<00:00, 16.38s/it]\n"
          ]
        }
      ],
      "source": [
        "import matplotlib.pyplot as plt\n",
        "from IPython.display import display, clear_output\n",
        "import torch\n",
        "from tqdm import tqdm\n",
        "\n",
        "val_samples = int(BATCH_SIZE * 0.3) # 20 images for validation \n",
        "train_samples = int(BATCH_SIZE - val_samples) # images for train \n",
        "\n",
        "# Setup matplotlib figure outside the loop\n",
        "plt.figure(figsize=(12, 8))\n",
        "ax = plt.gca()  # Get the current axis\n",
        "\n",
        "for e in tqdm(range(num_epochs)):\n",
        "    val_loss_ = []\n",
        "    train_loss_ = []\n",
        "    iter_ = []\n",
        "    for i, (images, labels) in enumerate(train_loader):\n",
        "        \n",
        "        # images -> (100,1,28,28)\n",
        "        # labels -> (100)\n",
        "        \n",
        "        # train set \n",
        "        train_images = images[0:train_samples,:,:,:]\n",
        "        train_labels = labels[0:train_samples]\n",
        "        #print(train_images.shape, train_labels.shape)\n",
        "        \n",
        "        # val set \n",
        "        val_images = images[val_samples:,:,:,:]\n",
        "        val_labels = labels[val_samples:]\n",
        "        #print(val_images.shape, val_labels.shape)\n",
        "\n",
        "\n",
        "        # Forward pass on the training set\n",
        "        pred_labels = model(train_images)\n",
        "        # Forward pass on the validation set\n",
        "        with torch.no_grad():\n",
        "            pred_val_labels = model(val_images)\n",
        "\n",
        "        # Compute training loss\n",
        "        train_loss = loss(input=pred_labels, target=train_labels)\n",
        "        # Compute validation loss\n",
        "        with torch.no_grad():\n",
        "            val_loss = loss(input=pred_val_labels, target=val_labels)\n",
        "\n",
        "        iter_.append(i)\n",
        "        train_loss_.append(train_loss.item())\n",
        "        val_loss_.append(val_loss.item())\n",
        "\n",
        "        # Backward pass and optimize\n",
        "        train_loss.backward()\n",
        "        optimizer.step()\n",
        "        optimizer.zero_grad()\n",
        "        \n",
        "        \n",
        "        \n",
        "        \n",
        "    print(f\"\\nLoss train epoch mean : {np.mean(train_loss_):.3f}\")\n",
        "    print(f\"\\nVal epoch mean loss : {np.mean(val_loss_):.3f}\")\n",
        "\n",
        "    # Validation curves\n",
        "    ax.plot(np.arange(e*len(train_loader),len(train_loader)*(e+1)), train_loss_, 'red', alpha = 0.5, label=f'Train mean loss : {np.mean(train_loss_):.4f} - epoch : {e+1}')\n",
        "    ax.plot(np.arange(e*len(train_loader),len(train_loader)*(e+1)), val_loss_, 'green', alpha = 0.8, label=f'Val mean loss : {np.mean(val_loss_):.4f} - epoch {e+1}')\n",
        "    ax.legend()\n",
        "    ax.set_xlabel('Iteration')\n",
        "    ax.set_ylabel('Loss')\n",
        "    ax.set_title(f'Training and Validation Loss -- epoch {e+1}')\n",
        "    ax.grid(True)\n",
        "    clear_output(wait=True)\n",
        "    display(ax.figure)  # Display the figure being updated\n",
        "        \n",
        "\n",
        "plt.close()  # Close the plot when the training is done\n",
        "\n",
        "    "
      ]
    },
    {
      "cell_type": "code",
      "execution_count": 136,
      "metadata": {},
      "outputs": [
        {
          "name": "stdout",
          "output_type": "stream",
          "text": [
            "Accuarcy 1 for iter/batch 0 : 100\n",
            "Accuarcy 2 for iter/batch 0 : 100\n",
            "Accuarcy 1 for iter/batch 1 : 100\n",
            "Accuarcy 2 for iter/batch 1 : 100\n",
            "Accuarcy 1 for iter/batch 2 : 100\n",
            "Accuarcy 2 for iter/batch 2 : 100\n",
            "Accuarcy 1 for iter/batch 3 : 99\n",
            "Accuarcy 2 for iter/batch 3 : 99\n",
            "Accuarcy 1 for iter/batch 4 : 97\n",
            "Accuarcy 2 for iter/batch 4 : 97\n",
            "Accuarcy 1 for iter/batch 5 : 98\n",
            "Accuarcy 2 for iter/batch 5 : 98\n",
            "Accuarcy 1 for iter/batch 6 : 97\n",
            "Accuarcy 2 for iter/batch 6 : 97\n",
            "Accuarcy 1 for iter/batch 7 : 99\n",
            "Accuarcy 2 for iter/batch 7 : 99\n",
            "Accuarcy 1 for iter/batch 8 : 100\n",
            "Accuarcy 2 for iter/batch 8 : 100\n",
            "Accuarcy 1 for iter/batch 9 : 97\n",
            "Accuarcy 2 for iter/batch 9 : 97\n",
            "Accuarcy 1 for iter/batch 10 : 97\n",
            "Accuarcy 2 for iter/batch 10 : 97\n",
            "Accuarcy 1 for iter/batch 11 : 99\n",
            "Accuarcy 2 for iter/batch 11 : 99\n",
            "Accuarcy 1 for iter/batch 12 : 95\n",
            "Accuarcy 2 for iter/batch 12 : 95\n",
            "Accuarcy 1 for iter/batch 13 : 98\n",
            "Accuarcy 2 for iter/batch 13 : 98\n",
            "Accuarcy 1 for iter/batch 14 : 100\n",
            "Accuarcy 2 for iter/batch 14 : 100\n",
            "Accuarcy 1 for iter/batch 15 : 97\n",
            "Accuarcy 2 for iter/batch 15 : 97\n",
            "Accuarcy 1 for iter/batch 16 : 98\n",
            "Accuarcy 2 for iter/batch 16 : 98\n",
            "Accuarcy 1 for iter/batch 17 : 98\n",
            "Accuarcy 2 for iter/batch 17 : 98\n",
            "Accuarcy 1 for iter/batch 18 : 99\n",
            "Accuarcy 2 for iter/batch 18 : 99\n",
            "Accuarcy 1 for iter/batch 19 : 99\n",
            "Accuarcy 2 for iter/batch 19 : 99\n",
            "Accuarcy 1 for iter/batch 20 : 97\n",
            "Accuarcy 2 for iter/batch 20 : 97\n",
            "Accuarcy 1 for iter/batch 21 : 95\n",
            "Accuarcy 2 for iter/batch 21 : 95\n",
            "Accuarcy 1 for iter/batch 22 : 98\n",
            "Accuarcy 2 for iter/batch 22 : 98\n",
            "Accuarcy 1 for iter/batch 23 : 99\n",
            "Accuarcy 2 for iter/batch 23 : 99\n",
            "Accuarcy 1 for iter/batch 24 : 97\n",
            "Accuarcy 2 for iter/batch 24 : 97\n",
            "Accuarcy 1 for iter/batch 25 : 99\n",
            "Accuarcy 2 for iter/batch 25 : 99\n",
            "Accuarcy 1 for iter/batch 26 : 99\n",
            "Accuarcy 2 for iter/batch 26 : 99\n",
            "Accuarcy 1 for iter/batch 27 : 99\n",
            "Accuarcy 2 for iter/batch 27 : 99\n",
            "Accuarcy 1 for iter/batch 28 : 97\n",
            "Accuarcy 2 for iter/batch 28 : 97\n",
            "Accuarcy 1 for iter/batch 29 : 96\n",
            "Accuarcy 2 for iter/batch 29 : 96\n",
            "Accuarcy 1 for iter/batch 30 : 98\n",
            "Accuarcy 2 for iter/batch 30 : 98\n",
            "Accuarcy 1 for iter/batch 31 : 100\n",
            "Accuarcy 2 for iter/batch 31 : 100\n",
            "Accuarcy 1 for iter/batch 32 : 100\n",
            "Accuarcy 2 for iter/batch 32 : 100\n",
            "Accuarcy 1 for iter/batch 33 : 99\n",
            "Accuarcy 2 for iter/batch 33 : 99\n",
            "Accuarcy 1 for iter/batch 34 : 98\n",
            "Accuarcy 2 for iter/batch 34 : 98\n",
            "Accuarcy 1 for iter/batch 35 : 94\n",
            "Accuarcy 2 for iter/batch 35 : 94\n",
            "Accuarcy 1 for iter/batch 36 : 99\n",
            "Accuarcy 2 for iter/batch 36 : 99\n",
            "Accuarcy 1 for iter/batch 37 : 97\n",
            "Accuarcy 2 for iter/batch 37 : 97\n",
            "Accuarcy 1 for iter/batch 38 : 97\n",
            "Accuarcy 2 for iter/batch 38 : 97\n",
            "Accuarcy 1 for iter/batch 39 : 98\n",
            "Accuarcy 2 for iter/batch 39 : 98\n",
            "Accuarcy 1 for iter/batch 40 : 97\n",
            "Accuarcy 2 for iter/batch 40 : 97\n",
            "Accuarcy 1 for iter/batch 41 : 99\n",
            "Accuarcy 2 for iter/batch 41 : 99\n",
            "Accuarcy 1 for iter/batch 42 : 95\n",
            "Accuarcy 2 for iter/batch 42 : 95\n",
            "Accuarcy 1 for iter/batch 43 : 99\n",
            "Accuarcy 2 for iter/batch 43 : 99\n",
            "Accuarcy 1 for iter/batch 44 : 100\n",
            "Accuarcy 2 for iter/batch 44 : 100\n",
            "Accuarcy 1 for iter/batch 45 : 95\n",
            "Accuarcy 2 for iter/batch 45 : 95\n",
            "Accuarcy 1 for iter/batch 46 : 100\n",
            "Accuarcy 2 for iter/batch 46 : 100\n",
            "Accuarcy 1 for iter/batch 47 : 99\n",
            "Accuarcy 2 for iter/batch 47 : 99\n",
            "Accuarcy 1 for iter/batch 48 : 96\n",
            "Accuarcy 2 for iter/batch 48 : 96\n",
            "Accuarcy 1 for iter/batch 49 : 99\n",
            "Accuarcy 2 for iter/batch 49 : 99\n",
            "Accuarcy 1 for iter/batch 50 : 100\n",
            "Accuarcy 2 for iter/batch 50 : 100\n",
            "Accuarcy 1 for iter/batch 51 : 99\n",
            "Accuarcy 2 for iter/batch 51 : 99\n",
            "Accuarcy 1 for iter/batch 52 : 100\n",
            "Accuarcy 2 for iter/batch 52 : 100\n",
            "Accuarcy 1 for iter/batch 53 : 100\n",
            "Accuarcy 2 for iter/batch 53 : 100\n",
            "Accuarcy 1 for iter/batch 54 : 100\n",
            "Accuarcy 2 for iter/batch 54 : 100\n",
            "Accuarcy 1 for iter/batch 55 : 100\n",
            "Accuarcy 2 for iter/batch 55 : 100\n",
            "Accuarcy 1 for iter/batch 56 : 97\n",
            "Accuarcy 2 for iter/batch 56 : 97\n",
            "Accuarcy 1 for iter/batch 57 : 100\n",
            "Accuarcy 2 for iter/batch 57 : 100\n",
            "Accuarcy 1 for iter/batch 58 : 99\n",
            "Accuarcy 2 for iter/batch 58 : 99\n",
            "Accuarcy 1 for iter/batch 59 : 93\n",
            "Accuarcy 2 for iter/batch 59 : 93\n",
            "Accuarcy 1 for iter/batch 60 : 99\n",
            "Accuarcy 2 for iter/batch 60 : 99\n",
            "Accuarcy 1 for iter/batch 61 : 100\n",
            "Accuarcy 2 for iter/batch 61 : 100\n",
            "Accuarcy 1 for iter/batch 62 : 100\n",
            "Accuarcy 2 for iter/batch 62 : 100\n",
            "Accuarcy 1 for iter/batch 63 : 100\n",
            "Accuarcy 2 for iter/batch 63 : 100\n",
            "Accuarcy 1 for iter/batch 64 : 100\n",
            "Accuarcy 2 for iter/batch 64 : 100\n",
            "Accuarcy 1 for iter/batch 65 : 96\n",
            "Accuarcy 2 for iter/batch 65 : 96\n",
            "Accuarcy 1 for iter/batch 66 : 99\n",
            "Accuarcy 2 for iter/batch 66 : 99\n",
            "Accuarcy 1 for iter/batch 67 : 99\n",
            "Accuarcy 2 for iter/batch 67 : 99\n",
            "Accuarcy 1 for iter/batch 68 : 100\n",
            "Accuarcy 2 for iter/batch 68 : 100\n",
            "Accuarcy 1 for iter/batch 69 : 100\n",
            "Accuarcy 2 for iter/batch 69 : 100\n",
            "Accuarcy 1 for iter/batch 70 : 100\n",
            "Accuarcy 2 for iter/batch 70 : 100\n",
            "Accuarcy 1 for iter/batch 71 : 100\n",
            "Accuarcy 2 for iter/batch 71 : 100\n",
            "Accuarcy 1 for iter/batch 72 : 100\n",
            "Accuarcy 2 for iter/batch 72 : 100\n",
            "Accuarcy 1 for iter/batch 73 : 100\n",
            "Accuarcy 2 for iter/batch 73 : 100\n",
            "Accuarcy 1 for iter/batch 74 : 99\n",
            "Accuarcy 2 for iter/batch 74 : 99\n",
            "Accuarcy 1 for iter/batch 75 : 100\n",
            "Accuarcy 2 for iter/batch 75 : 100\n",
            "Accuarcy 1 for iter/batch 76 : 100\n",
            "Accuarcy 2 for iter/batch 76 : 100\n",
            "Accuarcy 1 for iter/batch 77 : 100\n",
            "Accuarcy 2 for iter/batch 77 : 100\n",
            "Accuarcy 1 for iter/batch 78 : 98\n",
            "Accuarcy 2 for iter/batch 78 : 98\n",
            "Accuarcy 1 for iter/batch 79 : 100\n",
            "Accuarcy 2 for iter/batch 79 : 100\n",
            "Accuarcy 1 for iter/batch 80 : 100\n",
            "Accuarcy 2 for iter/batch 80 : 100\n",
            "Accuarcy 1 for iter/batch 81 : 100\n",
            "Accuarcy 2 for iter/batch 81 : 100\n",
            "Accuarcy 1 for iter/batch 82 : 100\n",
            "Accuarcy 2 for iter/batch 82 : 100\n",
            "Accuarcy 1 for iter/batch 83 : 100\n",
            "Accuarcy 2 for iter/batch 83 : 100\n",
            "Accuarcy 1 for iter/batch 84 : 100\n",
            "Accuarcy 2 for iter/batch 84 : 100\n",
            "Accuarcy 1 for iter/batch 85 : 100\n",
            "Accuarcy 2 for iter/batch 85 : 100\n",
            "Accuarcy 1 for iter/batch 86 : 100\n",
            "Accuarcy 2 for iter/batch 86 : 100\n",
            "Accuarcy 1 for iter/batch 87 : 100\n",
            "Accuarcy 2 for iter/batch 87 : 100\n",
            "Accuarcy 1 for iter/batch 88 : 100\n",
            "Accuarcy 2 for iter/batch 88 : 100\n",
            "Accuarcy 1 for iter/batch 89 : 100\n",
            "Accuarcy 2 for iter/batch 89 : 100\n",
            "Accuarcy 1 for iter/batch 90 : 97\n",
            "Accuarcy 2 for iter/batch 90 : 97\n",
            "Accuarcy 1 for iter/batch 91 : 100\n",
            "Accuarcy 2 for iter/batch 91 : 100\n",
            "Accuarcy 1 for iter/batch 92 : 100\n",
            "Accuarcy 2 for iter/batch 92 : 100\n",
            "Accuarcy 1 for iter/batch 93 : 100\n",
            "Accuarcy 2 for iter/batch 93 : 100\n",
            "Accuarcy 1 for iter/batch 94 : 100\n",
            "Accuarcy 2 for iter/batch 94 : 100\n",
            "Accuarcy 1 for iter/batch 95 : 99\n",
            "Accuarcy 2 for iter/batch 95 : 99\n",
            "Accuarcy 1 for iter/batch 96 : 97\n",
            "Accuarcy 2 for iter/batch 96 : 97\n",
            "Accuarcy 1 for iter/batch 97 : 97\n",
            "Accuarcy 2 for iter/batch 97 : 97\n",
            "Accuarcy 1 for iter/batch 98 : 98\n",
            "Accuarcy 2 for iter/batch 98 : 98\n",
            "Accuarcy 1 for iter/batch 99 : 98\n",
            "Accuarcy 2 for iter/batch 99 : 98\n",
            "Total accuracy 1 : 0.9865999817848206\n",
            "Total accuracy 2: 0.9865999817848206\n"
          ]
        }
      ],
      "source": [
        "# Evaluation / metrics \n",
        "with torch.no_grad():\n",
        "    accuracy = 0\n",
        "    accuracy_2 = 0  \n",
        "    samples = 0\n",
        "    for i, (b_images,b_labels) in enumerate(test_loader):\n",
        "        \n",
        "        # images -> (100,1,28,28)\n",
        "        # labels -> (100)\n",
        "        \n",
        "        samples += 100\n",
        "        y_test_pred = model(b_images)\n",
        "        \n",
        "        # Segundo metodo accuracy\n",
        "        _,pred_class_2 = torch.argmax(y_test_pred ,dim =  1)\n",
        "        accuracy_2 += (pred_class_2 == b_labels).sum()\n",
        "        \n",
        "        # Primer metodo accurcy\n",
        "        pred_class = y_test_pred.argmax(dim = 1)\n",
        "        accuracy += torch.sum(pred_class == b_labels)\n",
        "        print(f\"Accuarcy 1 for iter/batch {i} : {torch.sum(pred_class == b_labels)}\")\n",
        "        print(f\"Accuarcy 2 for iter/batch {i} : {(pred_class_2 == b_labels).sum()}\")\n",
        "\n",
        "\n",
        "    accuracy = accuracy / samples\n",
        "    accuracy_2 = accuracy_2 / samples \n",
        "    print(\"Total accuracy 1 :\", accuracy.item())\n",
        "    print(\"Total accuracy 2:\", accuracy_2.item())"
      ]
    },
    {
      "cell_type": "code",
      "execution_count": 29,
      "metadata": {},
      "outputs": [],
      "source": [
        "t = torch.tensor([[1,2,3]], dtype = torch.float64).view(3)"
      ]
    },
    {
      "cell_type": "code",
      "execution_count": 30,
      "metadata": {},
      "outputs": [
        {
          "data": {
            "text/plain": [
              "torch.Size([3])"
            ]
          },
          "execution_count": 30,
          "metadata": {},
          "output_type": "execute_result"
        }
      ],
      "source": [
        "t.shape"
      ]
    },
    {
      "cell_type": "code",
      "execution_count": 19,
      "metadata": {},
      "outputs": [
        {
          "name": "stdout",
          "output_type": "stream",
          "text": [
            "tensor([[0.0900, 0.2447, 0.6652],\n",
            "        [0.3333, 0.3333, 0.3333]], dtype=torch.float64)\n"
          ]
        }
      ],
      "source": [
        "t_s = torch.softmax(t, dim = 1)\n",
        "print(t_s)"
      ]
    },
    {
      "cell_type": "code",
      "execution_count": 20,
      "metadata": {},
      "outputs": [
        {
          "name": "stdout",
          "output_type": "stream",
          "text": [
            "tensor([[0.5000, 0.7311, 0.8808],\n",
            "        [0.5000, 0.2689, 0.1192]], dtype=torch.float64)\n"
          ]
        }
      ],
      "source": [
        "t_s = torch.softmax(t, dim = 0)\n",
        "print(t_s)"
      ]
    },
    {
      "cell_type": "code",
      "execution_count": 21,
      "metadata": {},
      "outputs": [
        {
          "data": {
            "text/plain": [
              "tensor([1.0000, 1.0000, 1.0000], dtype=torch.float64)"
            ]
          },
          "execution_count": 21,
          "metadata": {},
          "output_type": "execute_result"
        }
      ],
      "source": [
        "torch.sum(t_s, dim = 0)"
      ]
    },
    {
      "cell_type": "code",
      "execution_count": 22,
      "metadata": {},
      "outputs": [
        {
          "data": {
            "text/plain": [
              "tensor([2., 3., 4.], dtype=torch.float64)"
            ]
          },
          "execution_count": 22,
          "metadata": {},
          "output_type": "execute_result"
        }
      ],
      "source": [
        "torch.sum(t, dim = 0)"
      ]
    },
    {
      "cell_type": "code",
      "execution_count": 23,
      "metadata": {},
      "outputs": [
        {
          "name": "stdout",
          "output_type": "stream",
          "text": [
            "torch.Size([2, 3, 1])\n"
          ]
        }
      ],
      "source": [
        "m = t.unsqueeze(dim = -1)\n",
        "print(m.shape)"
      ]
    },
    {
      "cell_type": "code",
      "execution_count": 24,
      "metadata": {},
      "outputs": [
        {
          "name": "stdout",
          "output_type": "stream",
          "text": [
            "torch.Size([1, 4, 3])\n"
          ]
        }
      ],
      "source": [
        "t = torch.tensor([[[1,2,3],\n",
        "                  [1,1,1],\n",
        "                  [1,2,3],\n",
        "                  [1,2,3]]], dtype = torch.float64)\n",
        "print(t.shape)"
      ]
    },
    {
      "cell_type": "code",
      "execution_count": 171,
      "metadata": {},
      "outputs": [
        {
          "name": "stdout",
          "output_type": "stream",
          "text": [
            "torch.Size([3, 4])\n"
          ]
        }
      ],
      "source": [
        "m = t.view(3,4)\n",
        "print(m.shape)"
      ]
    },
    {
      "cell_type": "code",
      "execution_count": 2,
      "metadata": {},
      "outputs": [],
      "source": [
        "t = torch.randn([384])"
      ]
    },
    {
      "cell_type": "code",
      "execution_count": 3,
      "metadata": {},
      "outputs": [
        {
          "data": {
            "text/plain": [
              "torch.Size([384])"
            ]
          },
          "execution_count": 3,
          "metadata": {},
          "output_type": "execute_result"
        }
      ],
      "source": [
        "t.shape"
      ]
    },
    {
      "cell_type": "code",
      "execution_count": 9,
      "metadata": {},
      "outputs": [],
      "source": [
        "t = torch.zeros([2,384])"
      ]
    },
    {
      "cell_type": "code",
      "execution_count": 10,
      "metadata": {},
      "outputs": [
        {
          "data": {
            "text/plain": [
              "torch.Size([2, 384])"
            ]
          },
          "execution_count": 10,
          "metadata": {},
          "output_type": "execute_result"
        }
      ],
      "source": [
        "t.shape"
      ]
    },
    {
      "cell_type": "code",
      "execution_count": 16,
      "metadata": {},
      "outputs": [
        {
          "ename": "TypeError",
          "evalue": "can't assign a list to a torch.FloatTensor",
          "output_type": "error",
          "traceback": [
            "\u001b[1;31m---------------------------------------------------------------------------\u001b[0m",
            "\u001b[1;31mTypeError\u001b[0m                                 Traceback (most recent call last)",
            "Cell \u001b[1;32mIn[16], line 2\u001b[0m\n\u001b[0;32m      1\u001b[0m \u001b[38;5;28;01mfor\u001b[39;00m i \u001b[38;5;129;01min\u001b[39;00m \u001b[38;5;28mrange\u001b[39m(\u001b[38;5;241m2\u001b[39m):\n\u001b[1;32m----> 2\u001b[0m     \u001b[43mt\u001b[49m\u001b[43m[\u001b[49m\u001b[43mi\u001b[49m\u001b[43m,\u001b[49m\u001b[43m:\u001b[49m\u001b[43m]\u001b[49m \u001b[38;5;241m=\u001b[39m [\u001b[38;5;241m1.0\u001b[39m]\u001b[38;5;241m*\u001b[39m\u001b[38;5;241m384\u001b[39m\n",
            "\u001b[1;31mTypeError\u001b[0m: can't assign a list to a torch.FloatTensor"
          ]
        }
      ],
      "source": [
        "for i in range(2):\n",
        "    t[i,:] = [1.0]*384"
      ]
    },
    {
      "cell_type": "code",
      "execution_count": 14,
      "metadata": {},
      "outputs": [
        {
          "data": {
            "text/plain": [
              "torch.Size([2, 384])"
            ]
          },
          "execution_count": 14,
          "metadata": {},
          "output_type": "execute_result"
        }
      ],
      "source": [
        "t.shape"
      ]
    },
    {
      "cell_type": "code",
      "execution_count": null,
      "metadata": {},
      "outputs": [],
      "source": []
    }
  ],
  "metadata": {
    "accelerator": "GPU",
    "colab": {
      "provenance": []
    },
    "kernelspec": {
      "display_name": "Python 3",
      "name": "python3"
    },
    "language_info": {
      "codemirror_mode": {
        "name": "ipython",
        "version": 3
      },
      "file_extension": ".py",
      "mimetype": "text/x-python",
      "name": "python",
      "nbconvert_exporter": "python",
      "pygments_lexer": "ipython3",
      "version": "3.11.6"
    }
  },
  "nbformat": 4,
  "nbformat_minor": 0
}
