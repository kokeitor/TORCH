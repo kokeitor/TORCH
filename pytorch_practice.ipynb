{
  "cells": [
    {
      "cell_type": "code",
      "execution_count": 9,
      "metadata": {
        "colab": {
          "base_uri": "https://localhost:8080/"
        },
        "id": "2JVQ13l32QpB",
        "outputId": "79961510-ee34-4c42-8373-8bfb55d03ed4"
      },
      "outputs": [
        {
          "name": "stdout",
          "output_type": "stream",
          "text": [
            "Requirement already satisfied: torch in c:\\users\\koke\\appdata\\local\\programs\\python\\python311\\lib\\site-packages (2.2.2)\n",
            "Requirement already satisfied: tqdm in c:\\users\\koke\\appdata\\local\\programs\\python\\python311\\lib\\site-packages (4.66.2)\n",
            "Requirement already satisfied: filelock in c:\\users\\koke\\appdata\\local\\programs\\python\\python311\\lib\\site-packages (from torch) (3.13.4)\n",
            "Requirement already satisfied: typing-extensions>=4.8.0 in c:\\users\\koke\\appdata\\local\\programs\\python\\python311\\lib\\site-packages (from torch) (4.9.0)\n",
            "Requirement already satisfied: sympy in c:\\users\\koke\\appdata\\local\\programs\\python\\python311\\lib\\site-packages (from torch) (1.12)\n",
            "Requirement already satisfied: networkx in c:\\users\\koke\\appdata\\local\\programs\\python\\python311\\lib\\site-packages (from torch) (3.2.1)\n",
            "Requirement already satisfied: jinja2 in c:\\users\\koke\\appdata\\local\\programs\\python\\python311\\lib\\site-packages (from torch) (3.1.2)\n",
            "Requirement already satisfied: fsspec in c:\\users\\koke\\appdata\\local\\programs\\python\\python311\\lib\\site-packages (from torch) (2024.2.0)\n",
            "Requirement already satisfied: colorama in c:\\users\\koke\\appdata\\local\\programs\\python\\python311\\lib\\site-packages (from tqdm) (0.4.6)\n",
            "Requirement already satisfied: MarkupSafe>=2.0 in c:\\users\\koke\\appdata\\local\\programs\\python\\python311\\lib\\site-packages (from jinja2->torch) (2.1.3)\n",
            "Requirement already satisfied: mpmath>=0.19 in c:\\users\\koke\\appdata\\local\\programs\\python\\python311\\lib\\site-packages (from sympy->torch) (1.3.0)\n"
          ]
        },
        {
          "name": "stderr",
          "output_type": "stream",
          "text": [
            "\n",
            "[notice] A new release of pip is available: 23.3.1 -> 24.0\n",
            "[notice] To update, run: python.exe -m pip install --upgrade pip\n"
          ]
        }
      ],
      "source": [
        "# Esto es solo para poder debugear.\n",
        "!pip install torch tqdm\n",
        "import torch\n",
        "import numpy as np\n",
        "import tqdm\n",
        "\n",
        "# Genera una semilla fija para que los experimentos sea repetibles.\n",
        "t_cg = torch.manual_seed(1547)"
      ]
    },
    {
      "cell_type": "markdown",
      "metadata": {
        "id": "-MbJDaOcZGIr"
      },
      "source": [
        "### NUMPY"
      ]
    },
    {
      "cell_type": "code",
      "execution_count": 2,
      "metadata": {
        "id": "k40zE64ZUegJ"
      },
      "outputs": [],
      "source": [
        "x = np.array([[1, 2,3, 4]],dtype = np.float32)\n",
        "y = np.array([2, 4,6,8], dtype = np.float32)\n",
        "\n",
        "def forward(x):\n",
        "  return x * w\n",
        "def loss(y_pred, y):\n",
        "  return np.mean(((y_pred - y)**2))\n",
        "\n",
        "def grad(y_pred,y):\n",
        "  return (x* 2 * ((y_pred) - y)).mean()"
      ]
    },
    {
      "cell_type": "code",
      "execution_count": 3,
      "metadata": {
        "colab": {
          "base_uri": "https://localhost:8080/"
        },
        "id": "r5ayDy4JU3Q9",
        "outputId": "a608d9bd-16f8-47aa-af7d-dd44502c2683"
      },
      "outputs": [
        {
          "name": "stdout",
          "output_type": "stream",
          "text": [
            "30.0 1.5\n",
            "1.875 1.875\n",
            "0.1171875 1.96875\n",
            "0.0073242188 1.9921875\n",
            "0.00045776367 1.998046875\n",
            "2.861023e-05 1.99951171875\n",
            "1.7881393e-06 1.9998779296875\n",
            "1.1175871e-07 1.999969482421875\n",
            "6.9849193e-09 1.9999923706054688\n",
            "4.3655746e-10 1.9999980926513672\n",
            "9.999990463256836\n"
          ]
        }
      ],
      "source": [
        "w= 0.0\n",
        "lr =0.05\n",
        "for e in range(10):\n",
        "  y_pred = forward(x)\n",
        "  loss_i = loss(y_pred,y)\n",
        "  grad_i = grad(y_pred,y)\n",
        "  w -= lr*grad_i\n",
        "  print(loss_i, w)\n",
        "\n",
        "print(forward(x = 5))\n"
      ]
    },
    {
      "cell_type": "markdown",
      "metadata": {
        "id": "T1RouJqWZHQ3"
      },
      "source": [
        "### TORCH METHOD 1"
      ]
    },
    {
      "cell_type": "code",
      "execution_count": 4,
      "metadata": {
        "id": "ZEedSeCoZFT4"
      },
      "outputs": [],
      "source": [
        "x = torch.tensor([1,2,3, 4],dtype = torch.float32, requires_grad = False)\n",
        "y = torch.tensor([2,4,6,8], dtype = torch.float32, requires_grad = False)\n",
        "w = torch.tensor(0.0,dtype = torch.float32, requires_grad = True)\n",
        "\n",
        "\n",
        "def forward(x):\n",
        "  return w *  x\n",
        "def loss(y_pred, y):\n",
        "  return ((y_pred - y)**2).mean()\n"
      ]
    },
    {
      "cell_type": "code",
      "execution_count": 10,
      "metadata": {
        "colab": {
          "base_uri": "https://localhost:8080/"
        },
        "id": "lPV0BhWwhbaS",
        "outputId": "9f3b845e-e48e-4a47-ee54-adad8f82c58e"
      },
      "outputs": [
        {
          "name": "stderr",
          "output_type": "stream",
          "text": [
            "100%|██████████| 50/50 [00:00<00:00, 3845.02it/s]"
          ]
        },
        {
          "name": "stdout",
          "output_type": "stream",
          "text": [
            "epoch : 0\n",
            "loss : 30.000\n",
            "w : 0.300\n",
            "epoch : 10\n",
            "loss : 1.163\n",
            "w : 1.665\n",
            "epoch : 20\n",
            "loss : 0.045\n",
            "w : 1.934\n",
            "epoch : 30\n",
            "loss : 0.002\n",
            "w : 1.987\n",
            "epoch : 40\n",
            "loss : 0.000\n",
            "w : 1.997\n",
            "9.997042655944824\n"
          ]
        },
        {
          "name": "stderr",
          "output_type": "stream",
          "text": [
            "\n"
          ]
        }
      ],
      "source": [
        "lr =0.01\n",
        "for e in tqdm.tqdm(range(50)):\n",
        "  y_pred = forward(x)\n",
        "  l  = loss(y_pred, y)\n",
        "  l.backward()\n",
        "\n",
        "  with torch.no_grad():\n",
        "    w -= lr * w.grad\n",
        "  w.grad.zero_()\n",
        "\n",
        "  if e % 10 == 0:\n",
        "    print(f\"epoch : {e}\")\n",
        "    print(f\"loss : {l.item():.3f}\")\n",
        "    print(f\"w : {w.item():.3f}\")\n",
        "\n",
        "print(forward(x = 5).item())"
      ]
    },
    {
      "cell_type": "markdown",
      "metadata": {
        "id": "WBUak5v2gJYp"
      },
      "source": [
        "### TORCH METHOD 2"
      ]
    },
    {
      "cell_type": "code",
      "execution_count": 11,
      "metadata": {
        "id": "4OUYDA6mJfMm"
      },
      "outputs": [],
      "source": [
        "import torch.nn as nn\n",
        "x = torch.tensor([1,2,3, 4],dtype = torch.float32, requires_grad = False)\n",
        "y = torch.tensor([2,4,6,8], dtype = torch.float32, requires_grad = False)\n",
        "w = torch.tensor(0.0,dtype = torch.float32, requires_grad = True)\n",
        "\n",
        "#otra forma seria : instanciar clase que devuelve objeto MSEloss\n",
        "# loss = nn.MSELoss(size_average=None, reduce=None, reduction='mean')\n",
        "\n",
        "def forward(x):\n",
        "  return x * w\n"
      ]
    },
    {
      "cell_type": "code",
      "execution_count": 12,
      "metadata": {
        "colab": {
          "base_uri": "https://localhost:8080/"
        },
        "id": "Rt8l9pjvPuH4",
        "outputId": "34afe7b2-0c27-406c-dca6-831d92e4aa0b"
      },
      "outputs": [
        {
          "name": "stderr",
          "output_type": "stream",
          "text": [
            "100%|██████████| 50/50 [00:00<00:00, 3126.95it/s]"
          ]
        },
        {
          "name": "stdout",
          "output_type": "stream",
          "text": [
            "epoch : 0\n",
            "loss : 30.000\n",
            "w : 0.300\n",
            "epoch : 10\n",
            "loss : 1.163\n",
            "w : 1.665\n",
            "epoch : 20\n",
            "loss : 0.045\n",
            "w : 1.934\n",
            "epoch : 30\n",
            "loss : 0.002\n",
            "w : 1.987\n",
            "epoch : 40\n",
            "loss : 0.000\n",
            "w : 1.997\n",
            "9.997042655944824\n"
          ]
        },
        {
          "name": "stderr",
          "output_type": "stream",
          "text": [
            "\n"
          ]
        }
      ],
      "source": [
        "lr =0.01\n",
        "for e in tqdm.tqdm(range(50)):\n",
        "  y_pred = forward(x)\n",
        "  # simula la funcion de loss implementada a mano antes\n",
        "\n",
        "  # Metodo 1: instanciando clase de error\n",
        "  # l = loss(input = y_pred, target = y)\n",
        "\n",
        "  # Metodo 2 : simulan la funcion de loss implementada a mano antes mediante una funcion de error built in de torch:\n",
        "  l  = nn.functional.mse_loss(input = y_pred, target = y, size_average=None, reduce=None, reduction='mean')\n",
        "  l.backward()\n",
        "\n",
        "  with torch.no_grad():\n",
        "    w -= lr * w.grad\n",
        "  w.grad.zero_()\n",
        "\n",
        "  if e % 10 == 0:\n",
        "    print(f\"epoch : {e}\")\n",
        "    print(f\"loss : {l.item():.3f}\")\n",
        "    print(f\"w : {w.item():.3f}\")\n",
        "\n",
        "print(forward(x = 5).item())"
      ]
    },
    {
      "cell_type": "markdown",
      "metadata": {
        "id": "LEYAJ4W9hr5X"
      },
      "source": [
        "### TORCH METHOD 3"
      ]
    },
    {
      "cell_type": "code",
      "execution_count": 8,
      "metadata": {
        "id": "3yaq1ZBRQIqq"
      },
      "outputs": [
        {
          "name": "stderr",
          "output_type": "stream",
          "text": [
            "c:\\Users\\Koke\\AppData\\Local\\Programs\\Python\\Python311\\Lib\\site-packages\\tqdm\\auto.py:21: TqdmWarning: IProgress not found. Please update jupyter and ipywidgets. See https://ipywidgets.readthedocs.io/en/stable/user_install.html\n",
            "  from .autonotebook import tqdm as notebook_tqdm\n"
          ]
        }
      ],
      "source": [
        "import torch.nn as nn\n",
        "\n",
        "x = torch.tensor([1,2,3, 4],dtype = torch.float32, requires_grad = False)\n",
        "y = torch.tensor([2,4,6,8], dtype = torch.float32, requires_grad = False)\n",
        "w = torch.tensor(0.0,dtype = torch.float32, requires_grad = True)\n",
        "\n",
        "# loss class\n",
        "loss = nn.MSELoss(size_average=None, reduce=None, reduction='mean')\n",
        "\n",
        "# crea optimizer para prescendir d actualizacion de pesos a mano\n",
        "optimizer = torch.optim.SGD(params = [w], lr=0.01)\n",
        "\n",
        "def forward(x):\n",
        "  return x * w\n"
      ]
    },
    {
      "cell_type": "code",
      "execution_count": 13,
      "metadata": {
        "colab": {
          "base_uri": "https://localhost:8080/"
        },
        "id": "eZfjHjk2iBTU",
        "outputId": "f645192e-1657-4664-ec98-d50fedc36007"
      },
      "outputs": [
        {
          "name": "stderr",
          "output_type": "stream",
          "text": [
            "100%|██████████| 50/50 [00:00<00:00, 1626.00it/s]"
          ]
        },
        {
          "name": "stdout",
          "output_type": "stream",
          "text": [
            "epoch : 0\n",
            "loss : 0.000\n",
            "w : 1.999\n",
            "epoch : 10\n",
            "loss : 0.000\n",
            "w : 1.999\n",
            "epoch : 20\n",
            "loss : 0.000\n",
            "w : 1.999\n",
            "epoch : 30\n",
            "loss : 0.000\n",
            "w : 1.999\n",
            "epoch : 40\n",
            "loss : 0.000\n",
            "w : 1.999\n",
            "9.997042655944824\n"
          ]
        },
        {
          "name": "stderr",
          "output_type": "stream",
          "text": [
            "\n"
          ]
        }
      ],
      "source": [
        "for epoch in tqdm.tqdm(range(50)):\n",
        "  # forward\n",
        "  y_pred = forward(x)\n",
        "\n",
        "  # compute loss for all the batch\n",
        "  l   = loss(input = y_pred, target = y)\n",
        "\n",
        "  # compute the gradients for each w_i : dloss/dw_i (usa grafo computacional y almacena ,en el tensor .grad asociado a cada parametro, el valor del gradiente que luego usa el algoritmo de optimizacion)\n",
        "  l.backward()\n",
        "\n",
        "  # paso del optimizer (en este caso un simple SGD) equivale a lo que haciamos a mano de w += -lr*w.grad\n",
        "  optimizer.step()\n",
        "\n",
        "  if epoch % 10 == 0:\n",
        "    print(f\"epoch : {epoch}\")\n",
        "    print(f\"loss : {l.item():.3f}\")\n",
        "    print(f\"w : {w.item():.3f}\")\n",
        "  optimizer.zero_grad()\n",
        "\n",
        "print(forward(x = 5).item())"
      ]
    },
    {
      "cell_type": "markdown",
      "metadata": {
        "id": "Eft4lJyOqM9q"
      },
      "source": [
        "### TORCH METHOD 4"
      ]
    },
    {
      "cell_type": "code",
      "execution_count": 14,
      "metadata": {
        "id": "BYPG397vqPYO"
      },
      "outputs": [],
      "source": [
        "import torch.nn as nn\n",
        "\n",
        "x = torch.tensor([[1],[2],[3], [4]],dtype = torch.float32, requires_grad = False)\n",
        "y = torch.tensor([[2],[4],[6],[8]], dtype = torch.float32, requires_grad = False)\n",
        "\n",
        "# Dimension layers (in and out, entra 4 samples (batch) sale 1 output por cada input) teniendo en cuenta el batch: X_input(1,4) * W(4,1)--> (1,1) // sin batch : X_input(1) * W(1)--> (1)\n",
        "batch_size , features  = x.shape\n",
        "# features == dim_input y en este caso features ==  dim_output pq capa solo 1 parametro (como que solo una neurona)\n",
        "\n",
        "# model [capa lineal inicializa un tensor paramters asociado a la capa en funcion de las input y output dimesnions especificadas ]: capa lineal con 1 W y 1 X input (escalares) ; luego dim_input = 1 y dim_output = 1\n",
        "model = nn.Linear(in_features= 1, out_features = 1)\n",
        "\n",
        "# loss class\n",
        "loss = nn.MSELoss(size_average=None, reduce=None, reduction='mean')\n",
        "\n",
        "# crea optimizer para prescendir de actualizacion de pesos a mano\n",
        "optimizer = torch.optim.SGD(params = model.parameters(), lr=0.01)\n",
        "\n",
        "def forward(x):\n",
        "  return x * w\n"
      ]
    },
    {
      "cell_type": "code",
      "execution_count": 15,
      "metadata": {
        "colab": {
          "base_uri": "https://localhost:8080/"
        },
        "id": "SrJjVppMsOQC",
        "outputId": "34a42a02-75f1-4df4-9e3b-794be874aec0"
      },
      "outputs": [
        {
          "name": "stderr",
          "output_type": "stream",
          "text": [
            "100%|██████████| 50/50 [00:00<00:00, 1190.32it/s]"
          ]
        },
        {
          "name": "stdout",
          "output_type": "stream",
          "text": [
            "epoch : 0\n",
            "loss : 45.416\n",
            "w : 1.999\n",
            "epoch : 10\n",
            "loss : 1.182\n",
            "w : 1.999\n",
            "epoch : 20\n",
            "loss : 0.037\n",
            "w : 1.999\n",
            "epoch : 30\n",
            "loss : 0.007\n",
            "w : 1.999\n",
            "epoch : 40\n",
            "loss : 0.006\n",
            "w : 1.999\n",
            "9.997042655944824\n"
          ]
        },
        {
          "name": "stderr",
          "output_type": "stream",
          "text": [
            "\n"
          ]
        }
      ],
      "source": [
        "for epoch in tqdm.tqdm(range(50)):\n",
        "  # forward now is == to calling the model\n",
        "  y_pred = model(x)\n",
        "\n",
        "  # compute loss for all the batch\n",
        "  l   = loss(input = y_pred, target = y)\n",
        "\n",
        "  # compute the gradients for each w_i : dloss/dw_i (usa grafo computacional y almacena ,en el tensor .grad asociado a cada parametro, el valor del gradiente que luego usa el algoritmo de optimizacion)\n",
        "  l.backward()\n",
        "\n",
        "  # paso del optimizer (en este caso un simple SGD) equivale a lo que haciamos a mano de w += -lr*w.grad\n",
        "  optimizer.step()\n",
        "\n",
        "  if epoch % 10 == 0:\n",
        "    print(f\"epoch : {epoch}\")\n",
        "    print(f\"loss : {l.item():.3f}\")\n",
        "    print(f\"w : {w.item():.3f}\")\n",
        "  optimizer.zero_grad()\n",
        "\n",
        "print(forward(x = 5).item())"
      ]
    },
    {
      "cell_type": "markdown",
      "metadata": {
        "id": "SNpS7kFUkohP"
      },
      "source": [
        "### TORCH METHOD 5  : custom module"
      ]
    },
    {
      "cell_type": "code",
      "execution_count": null,
      "metadata": {
        "id": "znZayzMfktvh"
      },
      "outputs": [],
      "source": []
    },
    {
      "cell_type": "code",
      "execution_count": 66,
      "metadata": {
        "colab": {
          "base_uri": "https://localhost:8080/"
        },
        "id": "APdfIuxGQTuu",
        "outputId": "8d679be4-54fe-499b-86be-548f69d2049f"
      },
      "outputs": [
        {
          "name": "stdout",
          "output_type": "stream",
          "text": [
            "tensor([0.2530], requires_grad=True)\n"
          ]
        }
      ],
      "source": []
    },
    {
      "cell_type": "code",
      "execution_count": null,
      "metadata": {
        "id": "nLuoTVEkKzT3"
      },
      "outputs": [],
      "source": []
    },
    {
      "cell_type": "code",
      "execution_count": 5,
      "metadata": {
        "colab": {
          "base_uri": "https://localhost:8080/"
        },
        "id": "2neB6EJOLhpB",
        "outputId": "46ce8dd7-b529-4b84-f56c-6d5228a437f1"
      },
      "outputs": [
        {
          "name": "stdout",
          "output_type": "stream",
          "text": [
            "torch.Size([4])\n",
            "tensor([-0.4052, -2.1428, -0.3570, -0.1193])\n",
            "torch.Size([1, 4])\n",
            "tensor([[-0.4052, -2.1428, -0.3570, -0.1193]])\n"
          ]
        }
      ],
      "source": [
        "x = torch.randn(4)\n",
        "print(x.shape)\n",
        "print(x)\n",
        "print(x.unsqueeze(0).shape)\n",
        "print(x.unsqueeze(0))\n",
        "\n",
        "\n",
        "#x_soft_max = x.softmax(dim = -1)"
      ]
    },
    {
      "cell_type": "code",
      "execution_count": 6,
      "metadata": {
        "colab": {
          "base_uri": "https://localhost:8080/"
        },
        "id": "dyNsbbhcOxR5",
        "outputId": "d344168f-8c5b-45c1-b866-8a359f4ad548"
      },
      "outputs": [
        {
          "name": "stdout",
          "output_type": "stream",
          "text": [
            "torch.Size([2, 2])\n",
            "tensor([[-1.3433,  0.4192],\n",
            "        [ 0.3304,  0.9006]])\n",
            "torch.Size([2, 2])\n",
            "tensor([1., 1.])\n",
            "tensor([[0.1465, 0.8535],\n",
            "        [0.3612, 0.6388]])\n"
          ]
        }
      ],
      "source": [
        "x = torch.randn(2,2)\n",
        "y = torch.randn(2,2)\n",
        "\n",
        "print(x.shape)\n",
        "print(x)\n",
        "x_soft_max = x.softmax(dim = -1)\n",
        "\n",
        "\n",
        "print(x_soft_max.shape)\n",
        "print(x_soft_max.sum(dim = 1))\n",
        "print(x_soft_max)\n",
        "\n"
      ]
    },
    {
      "cell_type": "code",
      "execution_count": 10,
      "metadata": {
        "colab": {
          "base_uri": "https://localhost:8080/"
        },
        "id": "1VCjpi0oiL9g",
        "outputId": "82ec7283-dfb7-4fdc-810c-d2c10d398540"
      },
      "outputs": [
        {
          "name": "stdout",
          "output_type": "stream",
          "text": [
            "tensor([[ 0.2425, -0.6660],\n",
            "        [ 0.4344, -0.5432]])\n",
            "tensor([[ 0.0457,  1.4203],\n",
            "        [ 0.3156, -1.1674]])\n",
            "tensor([[ 0.0111, -0.9460],\n",
            "        [ 0.1371,  0.6342]])\n"
          ]
        }
      ],
      "source": [
        "x = torch.randn(2,2)\n",
        "y = torch.randn(2,2)\n",
        "print(x)\n",
        "print(y)\n",
        "\n",
        "print(x * y )\n",
        "\n",
        "\n"
      ]
    },
    {
      "cell_type": "code",
      "execution_count": 11,
      "metadata": {
        "colab": {
          "base_uri": "https://localhost:8080/"
        },
        "id": "iUo6snO-ivUr",
        "outputId": "583d06ad-cb10-4341-bc94-dc84755ceb05"
      },
      "outputs": [
        {
          "name": "stdout",
          "output_type": "stream",
          "text": [
            "tensor([[-0.1991,  1.1219],\n",
            "        [-0.1516,  1.2511]])\n"
          ]
        }
      ],
      "source": [
        "print(x  @ y )"
      ]
    },
    {
      "cell_type": "code",
      "execution_count": 86,
      "metadata": {
        "colab": {
          "base_uri": "https://localhost:8080/"
        },
        "id": "HR2omUf6SKDv",
        "outputId": "375a404b-050b-400c-a16b-306317fd8063"
      },
      "outputs": [
        {
          "name": "stdout",
          "output_type": "stream",
          "text": [
            "tensor(0.2999)\n",
            "tensor(0.7001)\n",
            "tensor(1.0000)\n"
          ]
        }
      ],
      "source": [
        "suma = 0\n",
        "for e in x_soft_max[:,0]:\n",
        "  print(e)\n",
        "  suma += e\n",
        "print(suma)"
      ]
    },
    {
      "cell_type": "code",
      "execution_count": 87,
      "metadata": {
        "colab": {
          "base_uri": "https://localhost:8080/"
        },
        "id": "6nKRFw4CTR9U",
        "outputId": "9fc254d9-ecc5-4619-e50f-d1aceb29dd70"
      },
      "outputs": [
        {
          "name": "stdout",
          "output_type": "stream",
          "text": [
            "tensor(0.7001)\n",
            "tensor(0.2779)\n",
            "tensor(0.9779)\n"
          ]
        }
      ],
      "source": [
        "suma = 0\n",
        "for e in x_soft_max[1,:]:\n",
        "  print(e)\n",
        "  suma += e\n",
        "print(suma)"
      ]
    },
    {
      "cell_type": "code",
      "execution_count": 82,
      "metadata": {
        "colab": {
          "base_uri": "https://localhost:8080/"
        },
        "id": "rXLp1WB3F_iI",
        "outputId": "08dad541-a023-4fe0-8394-8b900a6a429f"
      },
      "outputs": [
        {
          "name": "stdout",
          "output_type": "stream",
          "text": [
            "tensor([[[[ 0.5207, -1.2700,  0.9622, -1.4488],\n",
            "          [-0.3503, -1.8362, -0.2652,  1.5133],\n",
            "          [-0.5715, -1.1178, -0.0886, -0.9020]],\n",
            "\n",
            "         [[-0.2685,  1.1808, -0.2541,  0.6832],\n",
            "          [ 0.6094, -0.1029, -0.8680,  0.7459],\n",
            "          [ 0.1279, -0.4754,  0.0697, -1.5372]]]])\n",
            "tensor([[[[ 0.5207, -1.2700,  0.9622, -1.4488],\n",
            "          [-0.2685,  1.1808, -0.2541,  0.6832]],\n",
            "\n",
            "         [[-0.3503, -1.8362, -0.2652,  1.5133],\n",
            "          [ 0.6094, -0.1029, -0.8680,  0.7459]],\n",
            "\n",
            "         [[-0.5715, -1.1178, -0.0886, -0.9020],\n",
            "          [ 0.1279, -0.4754,  0.0697, -1.5372]]]])\n"
          ]
        },
        {
          "data": {
            "text/plain": [
              "False"
            ]
          },
          "execution_count": 82,
          "metadata": {},
          "output_type": "execute_result"
        }
      ],
      "source": [
        "a = torch.randn(1, 2, 3, 4)\n",
        "a.size()\n",
        "print(a)\n",
        "b = a.transpose(1, 2)  # Swaps 2nd and 3rd dimension\n",
        "b.size()\n",
        "print(b)\n",
        "c = a.view(1, 3, 2, 4)  # Does not change tensor layout in memory\n",
        "c.size()\n",
        "torch.equal(b, c)"
      ]
    },
    {
      "cell_type": "code",
      "execution_count": null,
      "metadata": {
        "id": "gW5MjPReZLhY"
      },
      "outputs": [],
      "source": [
        "# Red estilo pytorch\n",
        "class FFNN(torch.nn.Module):\n",
        "  def __init__(self, d0=300, d1=200, d2=300, d3 = 3):\n",
        "    super(FFNN, self).__init__()\n",
        "\n",
        "    # Definimos capas (automáticamente se registran como parametros)\n",
        "    self.fc1 = torch.nn.Linear(d0, d1, bias=True)\n",
        "    self.fc2 = torch.nn.Linear(d1, d2, bias=True)\n",
        "    self.fc3 = torch.nn.Linear(d2,  d3, bias=True)\n",
        "\n",
        "  # Computa la pasada hacia adelante\n",
        "  def forward(self, x):\n",
        "\n",
        "    u1 = self.fc1(x)\n",
        "    h1 = torch.tanh(u1)\n",
        "    u2 = self.fc2(h1)\n",
        "    h2 = torch.sigmoid(u2)\n",
        "    u3 = self.fc3(h2)\n",
        "    _sft_max_last = torch.nn.Softmax(dim = 1)\n",
        "    y_pred = _sft_max_last(u3)\n",
        "\n",
        "    return y_pred"
      ]
    },
    {
      "cell_type": "code",
      "execution_count": null,
      "metadata": {
        "id": "ui-y_i-UR1Rz"
      },
      "outputs": [],
      "source": [
        "from torch.utils.data import Dataset, DataLoader\n",
        "\n",
        "class RandomDataSet(Dataset):\n",
        "  def __init__(self, N, f, k):\n",
        "    R_N_f = torch.rand(N,f)\n",
        "    self.X = torch.bernoulli(R_N_f)\n",
        "    R_N_1 = torch.rand(N,k)\n",
        "    #self.Y = torch.bernoulli(R_N_1)\n",
        "    _sftmax = torch.nn.Softmax(dim=1)\n",
        "    self.Y  = _sftmax(R_N_1)\n",
        "    self.num_features = f\n",
        "\n",
        "  # Debemos definir __len__ para retornar el tamaño del dataset\n",
        "  def __len__(self):\n",
        "    return self.X.size()[0]\n",
        "\n",
        "  # Debemos definir __getitem__ para retornar el i-ésimo\n",
        "  # ejemplo en nuestro dataset.\n",
        "  def __getitem__(self, i):\n",
        "    return self.X[i], self.Y[i]"
      ]
    },
    {
      "cell_type": "code",
      "execution_count": null,
      "metadata": {
        "id": "Sh96-3s-ZjSL"
      },
      "outputs": [],
      "source": [
        "\n",
        "def loop_FFNN(dataset, batch_size, d1, d2, d3, lr,\n",
        "                 epochs, run_in_GPU=True, reports_every=1,\n",
        "                 cheq_grad=False):\n",
        "\n",
        "  # Define un tipo para los tensores según si correrá en la GPU o no\n",
        "  device = 'cuda' if run_in_GPU else 'cpu'\n",
        "\n",
        "  # d0 es la cantidad de features\n",
        "  d0 = dataset.num_features\n",
        "\n",
        "  # Crea la red\n",
        "  red = FFNN(d0, d1, d2, d3)\n",
        "\n",
        "  # Pasa la red al dispositivo elegido\n",
        "  red.to(device)\n",
        "\n",
        "  # Muestra la cantidad de parámetros\n",
        "  print('Red:', red)\n",
        "\n",
        "  # Crea un dataloader desde el dataset\n",
        "  data = DataLoader(dataset, batch_size, shuffle=True)\n",
        "\n",
        "  # Crea un optimizador para el descenso de gradiente\n",
        "  optimizador = torch.optim.SGD(red.parameters(), lr)\n",
        "\n",
        "  # Define una perdida\n",
        "  #perdida = torch.nn.BCELoss()\n",
        "  perdida = torch.nn.CrossEntropyLoss()\n",
        "\n",
        "  # Comienza el entrenamiento\n",
        "  tiempo_epochs = 0\n",
        "  for e in range(1,epochs+1):\n",
        "    inicio_epoch = time.time()\n",
        "\n",
        "    for (x,y) in data:\n",
        "      # Asegura de pasarlos a la GPU si fuera necesario\n",
        "      x, y = x.to(device), y.to(device)\n",
        "\n",
        "      # Computa la pasada hacia adelante (forward)\n",
        "      y_pred = red.forward(x)\n",
        "\n",
        "      # Computa la función de pérdida\n",
        "      L = perdida(y_pred,y)\n",
        "\n",
        "      # Computa los gradientes hacia atrás (backpropagation)\n",
        "      L.backward()\n",
        "\n",
        "      # Descenso de gradiente para actualizar los parámetros\n",
        "      optimizador.step()\n",
        "\n",
        "      # Limpia los gradientes\n",
        "      optimizador.zero_grad()\n",
        "\n",
        "    tiempo_epochs += time.time() - inicio_epoch\n",
        "\n",
        "    if e % reports_every == 0:\n",
        "      # Calcula la certeza de las predicciones sobre todo el conjunto\n",
        "      X = dataset.X.to(device)\n",
        "      Y = dataset.Y.to(device)\n",
        "\n",
        "      # Predice usando la red\n",
        "      Y_PRED = red.forward(X)\n",
        "\n",
        "      # Calcula la pérdida de todo el conjunto\n",
        "      L_total = perdida(Y_PRED, Y)\n",
        "\n",
        "      # Elige una clase dependiendo del valor de Y_PRED\n",
        "      Y_PRED_BIN = (Y_PRED >= 0.5).float()\n",
        "\n",
        "      correctos = torch.sum(Y_PRED_BIN == Y).item()\n",
        "      acc = (correctos / N) * 100\n",
        "\n",
        "      sys.stdout.write(\n",
        "            '\\rEpoch:{0:03d}'.format(e) + ' Acc:{0:.2f}%'.format(acc)\n",
        "            + ' Loss:{0:.4f}'.format(L_total)\n",
        "            + ' Tiempo/epoch:{0:.3f}s'.format(tiempo_epochs/e))"
      ]
    },
    {
      "cell_type": "code",
      "execution_count": null,
      "metadata": {
        "id": "GJx5kndFBhgi"
      },
      "outputs": [],
      "source": [
        "N = 50000 # numero de ejemplos\n",
        "f = 300 # numero de features\n",
        "k = 3 # numero de clases\n",
        "\n",
        "dataset = RandomDataSet(N,f, k)"
      ]
    },
    {
      "cell_type": "code",
      "execution_count": null,
      "metadata": {
        "colab": {
          "base_uri": "https://localhost:8080/",
          "height": 408
        },
        "id": "XgaASdM0FnJ9",
        "outputId": "c90ee3d0-102b-4c15-de36-4afae4d4c658"
      },
      "outputs": [
        {
          "name": "stdout",
          "output_type": "stream",
          "text": [
            "Red: FFNN(\n",
            "  (fc1): Linear(in_features=300, out_features=500, bias=True)\n",
            "  (fc2): Linear(in_features=500, out_features=100, bias=True)\n",
            "  (fc3): Linear(in_features=100, out_features=5, bias=True)\n",
            ")\n"
          ]
        },
        {
          "ename": "RuntimeError",
          "evalue": "0D or 1D target tensor expected, multi-target not supported",
          "output_type": "error",
          "traceback": [
            "\u001b[0;31m---------------------------------------------------------------------------\u001b[0m",
            "\u001b[0;31mRuntimeError\u001b[0m                              Traceback (most recent call last)",
            "\u001b[0;32m<ipython-input-85-ea9c0511e6a3>\u001b[0m in \u001b[0;36m<cell line: 2>\u001b[0;34m()\u001b[0m\n\u001b[1;32m      1\u001b[0m \u001b[0mepochs\u001b[0m \u001b[0;34m=\u001b[0m \u001b[0;36m50\u001b[0m\u001b[0;34m\u001b[0m\u001b[0;34m\u001b[0m\u001b[0m\n\u001b[0;32m----> 2\u001b[0;31m loop_FFNN(dataset, batch_size=100, d1=500, d2=100, d3 = 5, epochs=epochs,\n\u001b[0m\u001b[1;32m      3\u001b[0m              run_in_GPU=True, lr=0.08)\n",
            "\u001b[0;32m<ipython-input-82-7c8d7fa68919>\u001b[0m in \u001b[0;36mloop_FFNN\u001b[0;34m(dataset, batch_size, d1, d2, d3, lr, epochs, run_in_GPU, reports_every, cheq_grad)\u001b[0m\n\u001b[1;32m     41\u001b[0m \u001b[0;34m\u001b[0m\u001b[0m\n\u001b[1;32m     42\u001b[0m       \u001b[0;31m# Computa la función de pérdida\u001b[0m\u001b[0;34m\u001b[0m\u001b[0;34m\u001b[0m\u001b[0m\n\u001b[0;32m---> 43\u001b[0;31m       \u001b[0mL\u001b[0m \u001b[0;34m=\u001b[0m \u001b[0mperdida\u001b[0m\u001b[0;34m(\u001b[0m\u001b[0my_pred\u001b[0m\u001b[0;34m,\u001b[0m\u001b[0my\u001b[0m\u001b[0;34m)\u001b[0m\u001b[0;34m\u001b[0m\u001b[0;34m\u001b[0m\u001b[0m\n\u001b[0m\u001b[1;32m     44\u001b[0m \u001b[0;34m\u001b[0m\u001b[0m\n\u001b[1;32m     45\u001b[0m       \u001b[0;31m# Computa los gradientes hacia atrás (backpropagation)\u001b[0m\u001b[0;34m\u001b[0m\u001b[0;34m\u001b[0m\u001b[0m\n",
            "\u001b[0;32m/usr/local/lib/python3.10/dist-packages/torch/nn/modules/module.py\u001b[0m in \u001b[0;36m_wrapped_call_impl\u001b[0;34m(self, *args, **kwargs)\u001b[0m\n\u001b[1;32m   1509\u001b[0m             \u001b[0;32mreturn\u001b[0m \u001b[0mself\u001b[0m\u001b[0;34m.\u001b[0m\u001b[0m_compiled_call_impl\u001b[0m\u001b[0;34m(\u001b[0m\u001b[0;34m*\u001b[0m\u001b[0margs\u001b[0m\u001b[0;34m,\u001b[0m \u001b[0;34m**\u001b[0m\u001b[0mkwargs\u001b[0m\u001b[0;34m)\u001b[0m  \u001b[0;31m# type: ignore[misc]\u001b[0m\u001b[0;34m\u001b[0m\u001b[0;34m\u001b[0m\u001b[0m\n\u001b[1;32m   1510\u001b[0m         \u001b[0;32melse\u001b[0m\u001b[0;34m:\u001b[0m\u001b[0;34m\u001b[0m\u001b[0;34m\u001b[0m\u001b[0m\n\u001b[0;32m-> 1511\u001b[0;31m             \u001b[0;32mreturn\u001b[0m \u001b[0mself\u001b[0m\u001b[0;34m.\u001b[0m\u001b[0m_call_impl\u001b[0m\u001b[0;34m(\u001b[0m\u001b[0;34m*\u001b[0m\u001b[0margs\u001b[0m\u001b[0;34m,\u001b[0m \u001b[0;34m**\u001b[0m\u001b[0mkwargs\u001b[0m\u001b[0;34m)\u001b[0m\u001b[0;34m\u001b[0m\u001b[0;34m\u001b[0m\u001b[0m\n\u001b[0m\u001b[1;32m   1512\u001b[0m \u001b[0;34m\u001b[0m\u001b[0m\n\u001b[1;32m   1513\u001b[0m     \u001b[0;32mdef\u001b[0m \u001b[0m_call_impl\u001b[0m\u001b[0;34m(\u001b[0m\u001b[0mself\u001b[0m\u001b[0;34m,\u001b[0m \u001b[0;34m*\u001b[0m\u001b[0margs\u001b[0m\u001b[0;34m,\u001b[0m \u001b[0;34m**\u001b[0m\u001b[0mkwargs\u001b[0m\u001b[0;34m)\u001b[0m\u001b[0;34m:\u001b[0m\u001b[0;34m\u001b[0m\u001b[0;34m\u001b[0m\u001b[0m\n",
            "\u001b[0;32m/usr/local/lib/python3.10/dist-packages/torch/nn/modules/module.py\u001b[0m in \u001b[0;36m_call_impl\u001b[0;34m(self, *args, **kwargs)\u001b[0m\n\u001b[1;32m   1518\u001b[0m                 \u001b[0;32mor\u001b[0m \u001b[0m_global_backward_pre_hooks\u001b[0m \u001b[0;32mor\u001b[0m \u001b[0m_global_backward_hooks\u001b[0m\u001b[0;34m\u001b[0m\u001b[0;34m\u001b[0m\u001b[0m\n\u001b[1;32m   1519\u001b[0m                 or _global_forward_hooks or _global_forward_pre_hooks):\n\u001b[0;32m-> 1520\u001b[0;31m             \u001b[0;32mreturn\u001b[0m \u001b[0mforward_call\u001b[0m\u001b[0;34m(\u001b[0m\u001b[0;34m*\u001b[0m\u001b[0margs\u001b[0m\u001b[0;34m,\u001b[0m \u001b[0;34m**\u001b[0m\u001b[0mkwargs\u001b[0m\u001b[0;34m)\u001b[0m\u001b[0;34m\u001b[0m\u001b[0;34m\u001b[0m\u001b[0m\n\u001b[0m\u001b[1;32m   1521\u001b[0m \u001b[0;34m\u001b[0m\u001b[0m\n\u001b[1;32m   1522\u001b[0m         \u001b[0;32mtry\u001b[0m\u001b[0;34m:\u001b[0m\u001b[0;34m\u001b[0m\u001b[0;34m\u001b[0m\u001b[0m\n",
            "\u001b[0;32m/usr/local/lib/python3.10/dist-packages/torch/nn/modules/loss.py\u001b[0m in \u001b[0;36mforward\u001b[0;34m(self, input, target)\u001b[0m\n\u001b[1;32m   1177\u001b[0m \u001b[0;34m\u001b[0m\u001b[0m\n\u001b[1;32m   1178\u001b[0m     \u001b[0;32mdef\u001b[0m \u001b[0mforward\u001b[0m\u001b[0;34m(\u001b[0m\u001b[0mself\u001b[0m\u001b[0;34m,\u001b[0m \u001b[0minput\u001b[0m\u001b[0;34m:\u001b[0m \u001b[0mTensor\u001b[0m\u001b[0;34m,\u001b[0m \u001b[0mtarget\u001b[0m\u001b[0;34m:\u001b[0m \u001b[0mTensor\u001b[0m\u001b[0;34m)\u001b[0m \u001b[0;34m->\u001b[0m \u001b[0mTensor\u001b[0m\u001b[0;34m:\u001b[0m\u001b[0;34m\u001b[0m\u001b[0;34m\u001b[0m\u001b[0m\n\u001b[0;32m-> 1179\u001b[0;31m         return F.cross_entropy(input, target, weight=self.weight,\n\u001b[0m\u001b[1;32m   1180\u001b[0m                                \u001b[0mignore_index\u001b[0m\u001b[0;34m=\u001b[0m\u001b[0mself\u001b[0m\u001b[0;34m.\u001b[0m\u001b[0mignore_index\u001b[0m\u001b[0;34m,\u001b[0m \u001b[0mreduction\u001b[0m\u001b[0;34m=\u001b[0m\u001b[0mself\u001b[0m\u001b[0;34m.\u001b[0m\u001b[0mreduction\u001b[0m\u001b[0;34m,\u001b[0m\u001b[0;34m\u001b[0m\u001b[0;34m\u001b[0m\u001b[0m\n\u001b[1;32m   1181\u001b[0m                                label_smoothing=self.label_smoothing)\n",
            "\u001b[0;32m/usr/local/lib/python3.10/dist-packages/torch/nn/functional.py\u001b[0m in \u001b[0;36mcross_entropy\u001b[0;34m(input, target, weight, size_average, ignore_index, reduce, reduction, label_smoothing)\u001b[0m\n\u001b[1;32m   3057\u001b[0m     \u001b[0;32mif\u001b[0m \u001b[0msize_average\u001b[0m \u001b[0;32mis\u001b[0m \u001b[0;32mnot\u001b[0m \u001b[0;32mNone\u001b[0m \u001b[0;32mor\u001b[0m \u001b[0mreduce\u001b[0m \u001b[0;32mis\u001b[0m \u001b[0;32mnot\u001b[0m \u001b[0;32mNone\u001b[0m\u001b[0;34m:\u001b[0m\u001b[0;34m\u001b[0m\u001b[0;34m\u001b[0m\u001b[0m\n\u001b[1;32m   3058\u001b[0m         \u001b[0mreduction\u001b[0m \u001b[0;34m=\u001b[0m \u001b[0m_Reduction\u001b[0m\u001b[0;34m.\u001b[0m\u001b[0mlegacy_get_string\u001b[0m\u001b[0;34m(\u001b[0m\u001b[0msize_average\u001b[0m\u001b[0;34m,\u001b[0m \u001b[0mreduce\u001b[0m\u001b[0;34m)\u001b[0m\u001b[0;34m\u001b[0m\u001b[0;34m\u001b[0m\u001b[0m\n\u001b[0;32m-> 3059\u001b[0;31m     \u001b[0;32mreturn\u001b[0m \u001b[0mtorch\u001b[0m\u001b[0;34m.\u001b[0m\u001b[0m_C\u001b[0m\u001b[0;34m.\u001b[0m\u001b[0m_nn\u001b[0m\u001b[0;34m.\u001b[0m\u001b[0mcross_entropy_loss\u001b[0m\u001b[0;34m(\u001b[0m\u001b[0minput\u001b[0m\u001b[0;34m,\u001b[0m \u001b[0mtarget\u001b[0m\u001b[0;34m,\u001b[0m \u001b[0mweight\u001b[0m\u001b[0;34m,\u001b[0m \u001b[0m_Reduction\u001b[0m\u001b[0;34m.\u001b[0m\u001b[0mget_enum\u001b[0m\u001b[0;34m(\u001b[0m\u001b[0mreduction\u001b[0m\u001b[0;34m)\u001b[0m\u001b[0;34m,\u001b[0m \u001b[0mignore_index\u001b[0m\u001b[0;34m,\u001b[0m \u001b[0mlabel_smoothing\u001b[0m\u001b[0;34m)\u001b[0m\u001b[0;34m\u001b[0m\u001b[0;34m\u001b[0m\u001b[0m\n\u001b[0m\u001b[1;32m   3060\u001b[0m \u001b[0;34m\u001b[0m\u001b[0m\n\u001b[1;32m   3061\u001b[0m \u001b[0;34m\u001b[0m\u001b[0m\n",
            "\u001b[0;31mRuntimeError\u001b[0m: 0D or 1D target tensor expected, multi-target not supported"
          ]
        }
      ],
      "source": [
        "epochs = 50\n",
        "loop_FFNN(dataset, batch_size=100, d1=500, d2=100, d3 = 3, epochs=epochs,\n",
        "             run_in_GPU=True, lr=0.08)"
      ]
    },
    {
      "cell_type": "code",
      "execution_count": null,
      "metadata": {
        "id": "rr1JvHD8_VG9"
      },
      "outputs": [],
      "source": []
    }
  ],
  "metadata": {
    "accelerator": "GPU",
    "colab": {
      "provenance": []
    },
    "kernelspec": {
      "display_name": "Python 3",
      "name": "python3"
    },
    "language_info": {
      "codemirror_mode": {
        "name": "ipython",
        "version": 3
      },
      "file_extension": ".py",
      "mimetype": "text/x-python",
      "name": "python",
      "nbconvert_exporter": "python",
      "pygments_lexer": "ipython3",
      "version": "3.11.6"
    }
  },
  "nbformat": 4,
  "nbformat_minor": 0
}
